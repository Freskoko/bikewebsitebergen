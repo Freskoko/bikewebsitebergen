{
 "cells": [
  {
   "cell_type": "code",
   "execution_count": 64,
   "metadata": {},
   "outputs": [],
   "source": [
    "import os\n",
    "import pandas as pd\n",
    "import matplotlib.pyplot as plt"
   ]
  },
  {
   "cell_type": "code",
   "execution_count": 65,
   "metadata": {},
   "outputs": [
    {
     "name": "stdout",
     "output_type": "stream",
     "text": [
      "                         started_at                          ended_at  \\\n",
      "0  2024-02-01 04:15:31.355000+00:00  2024-02-01 04:24:47.874000+00:00   \n",
      "1  2024-02-01 04:28:55.316000+00:00  2024-02-01 04:32:30.956000+00:00   \n",
      "2  2024-02-01 04:54:51.455000+00:00  2024-02-01 04:58:49.535000+00:00   \n",
      "3  2024-02-01 04:55:59.878000+00:00  2024-02-01 04:58:36.073000+00:00   \n",
      "4  2024-02-01 04:57:49.630000+00:00  2024-02-01 05:04:14.871000+00:00   \n",
      "\n",
      "   duration  start_station_id           start_station_name  \\\n",
      "0       556               808            Damsgårdsveien 71   \n",
      "1       215                58                    Tårnplass   \n",
      "2       238               816  Østre Murallmenningen nedre   \n",
      "3       156               794             St. Jakobs Plass   \n",
      "4       385               817    Nedre Korskirkeallmenning   \n",
      "\n",
      "            start_station_description  start_station_latitude  \\\n",
      "0  By walkway to Damsgårdsveien 69-71               60.380263   \n",
      "1             Tårnplass ved Tinghuset               60.393755   \n",
      "2                 Ved inngang Gågaten               60.395144   \n",
      "3            Langs Folkeuniversitetet               60.386681   \n",
      "4         Nedre Korskirkeallmenning 8               60.394550   \n",
      "\n",
      "   start_station_longitude  end_station_id end_station_name  \\\n",
      "0                 5.323223             215  Nonneseterplass   \n",
      "1                 5.321792             138   C. Sundts gate   \n",
      "2                 5.320002             132      Nøstetorget   \n",
      "3                 5.330978              87        AdO arena   \n",
      "4                 5.327050              87        AdO arena   \n",
      "\n",
      "                        end_station_description  end_station_latitude  \\\n",
      "0          ved Jernbanestasjonen og Bystasjonen             60.389672   \n",
      "1                               Ved Nagelgården             60.399475   \n",
      "2                              Sukkerhusbryggen             60.392182   \n",
      "3  Ved Amalie Skram vgs og Store Lungegårdsvann             60.385431   \n",
      "4  Ved Amalie Skram vgs og Store Lungegårdsvann             60.385431   \n",
      "\n",
      "   end_station_longitude  \n",
      "0               5.333605  \n",
      "1               5.308762  \n",
      "2               5.315016  \n",
      "3               5.337432  \n",
      "4               5.337432  \n"
     ]
    }
   ],
   "source": [
    "# load all csv to one big df\n",
    "\n",
    "data_dir = 'data/in'\n",
    "file_list = os.listdir(data_dir)\n",
    "all_dfs = []\n",
    "\n",
    "for file_name in file_list:\n",
    "    if file_name.endswith('.csv'):\n",
    "        file_path = os.path.join(data_dir, file_name)\n",
    "        \n",
    "        total_df = pd.read_csv(file_path)\n",
    "        all_dfs.append(total_df)\n",
    "\n",
    "total_df = pd.concat(all_dfs)\n",
    "print(total_df.head())\n"
   ]
  },
  {
   "cell_type": "code",
   "execution_count": 66,
   "metadata": {},
   "outputs": [
    {
     "name": "stdout",
     "output_type": "stream",
     "text": [
      "       start_station_name  avg_duration  AdO arena  Akvariet  \\\n",
      "0               AdO arena    480.240051       16.0      17.0   \n",
      "1                Akvariet    535.961399       14.0       5.0   \n",
      "2       Allehelgens plass    506.443609       34.0      18.0   \n",
      "3  Amalie Skrams vei Nord    688.176923        0.0       0.0   \n",
      "4   Amalie Skrams vei Sør    770.327189       19.0       3.0   \n",
      "\n",
      "   Allehelgens plass  Amalie Skrams vei Nord  Amalie Skrams vei Sør  \\\n",
      "0               52.0                     0.0                    1.0   \n",
      "1               38.0                     0.0                    2.0   \n",
      "2                7.0                     2.0                    3.0   \n",
      "3                0.0                     2.0                   14.0   \n",
      "4                2.0                    19.0                    5.0   \n",
      "\n",
      "   Bergen Jernbanestasjon II  Bergen jernbanestasjon  Bjørnsonsgate  ...  \\\n",
      "0                       25.0                    40.0            4.0  ...   \n",
      "1                        4.0                    53.0            0.0  ...   \n",
      "2                        2.0                    16.0           18.0  ...   \n",
      "3                        0.0                     0.0            0.0  ...   \n",
      "4                        9.0                    33.0            2.0  ...   \n",
      "\n",
      "   Torget  Tårnplass  Verftet  Vestlund Borettslag  Vågsallmenningen  \\\n",
      "0    32.0        8.0     13.0                  0.0               1.0   \n",
      "1    26.0       19.0      0.0                  0.0               9.0   \n",
      "2     9.0        9.0     12.0                  0.0               3.0   \n",
      "3     2.0        1.0      0.0                  0.0               1.0   \n",
      "4    44.0       13.0      4.0                  0.0               7.0   \n",
      "\n",
      "   Welhavens gate 64  Zander Kaaes gate  Østre Murallmenningen nedre  \\\n",
      "0               13.0               30.0                          6.0   \n",
      "1                0.0               18.0                         53.0   \n",
      "2                3.0                1.0                         12.0   \n",
      "3                0.0                1.0                          5.0   \n",
      "4                1.0                1.0                         29.0   \n",
      "\n",
      "   Østre Murallmenningen øvre  Øvre Korskirkeallmenning  \n",
      "0                         3.0                       7.0  \n",
      "1                         2.0                       3.0  \n",
      "2                        21.0                       2.0  \n",
      "3                         0.0                       0.0  \n",
      "4                         0.0                       7.0  \n",
      "\n",
      "[5 rows x 122 columns]\n"
     ]
    }
   ],
   "source": [
    "# create df describing stations and how many trips from one station was made to another\n",
    "\n",
    "# duration numeric to calculate\n",
    "total_df['duration'] = pd.to_numeric(total_df['duration'])\n",
    "\n",
    "# new df with average duration per start station\n",
    "avg_duration_df = total_df.groupby('start_station_name')['duration'].mean().reset_index()\n",
    "avg_duration_df.rename(columns={'duration': 'avg_duration'}, inplace=True)\n",
    "\n",
    "# df that counts how many times a cycle drove from\n",
    "# a start station to all other stations\n",
    "trips_to_other_stations_df = total_df.groupby(['start_station_name', 'end_station_name']).size().reset_index()\n",
    "trips_to_other_stations_df.rename(columns={0: 'trips'}, inplace=True)\n",
    "\n",
    "# pivot this DataFrame to have a tripl count from each start_station_name to each end_station_name\n",
    "pivot_df = trips_to_other_stations_df.pivot(index='start_station_name', columns='end_station_name', values='trips').reset_index()\n",
    "\n",
    "# NaN values to 0 (no trip from there to there)\n",
    "pivot_df.fillna(0, inplace=True)\n",
    "\n",
    "final_df = pd.merge(avg_duration_df, pivot_df, on='start_station_name')\n",
    "\n",
    "print(final_df.head())\n",
    "final_df.to_csv(\"data/out/stations_trips_df.csv\", index=False)"
   ]
  },
  {
   "cell_type": "code",
   "execution_count": 67,
   "metadata": {},
   "outputs": [
    {
     "name": "stdout",
     "output_type": "stream",
     "text": [
      "   station_id                 station_name  \\\n",
      "0         808            Damsgårdsveien 71   \n",
      "1          58                    Tårnplass   \n",
      "2         816  Østre Murallmenningen nedre   \n",
      "3         794             St. Jakobs Plass   \n",
      "4         817    Nedre Korskirkeallmenning   \n",
      "\n",
      "                  station_description  station_latitude  station_longitude  \n",
      "0  By walkway to Damsgårdsveien 69-71         60.380263           5.323223  \n",
      "1             Tårnplass ved Tinghuset         60.393755           5.321792  \n",
      "2                 Ved inngang Gågaten         60.395144           5.320002  \n",
      "3            Langs Folkeuniversitetet         60.386681           5.330978  \n",
      "4         Nedre Korskirkeallmenning 8         60.394550           5.327050  \n"
     ]
    }
   ],
   "source": [
    "# Get unique station info from start stations\n",
    "start_stations_df = total_df[['start_station_id','start_station_name','start_station_description','start_station_latitude','start_station_longitude']].drop_duplicates()\n",
    "\n",
    "# Renaming columns \n",
    "start_stations_df.columns = ['station_id', 'station_name', 'station_description', 'station_latitude', 'station_longitude']\n",
    "\n",
    "# Get unique station info from end stations\n",
    "end_stations_df = total_df[['end_station_id','end_station_name','end_station_description','end_station_latitude','end_station_longitude']].drop_duplicates()\n",
    "\n",
    "# Renaming columns \n",
    "end_stations_df.columns = ['station_id','station_name','station_description','station_latitude','station_longitude']\n",
    "\n",
    "# Concatenate two station dataframes and drop duplicates (as some stations could be in both start and end station list)\n",
    "all_stations_df = pd.concat([start_stations_df, end_stations_df]).drop_duplicates()\n",
    "\n",
    "all_stations_df.to_csv(\"data/out/stations_df.csv\", index=False)\n",
    "print(all_stations_df.head())"
   ]
  },
  {
   "cell_type": "code",
   "execution_count": 68,
   "metadata": {},
   "outputs": [
    {
     "data": {
      "image/png": "[encoded data removed]",
      "text/plain": [
       "<Figure size 640x480 with 1 Axes>"
      ]
     },
     "metadata": {},
     "output_type": "display_data"
    },
    {
     "data": {
      "image/png": "[encoded data removed]",
      "text/plain": [
       "<Figure size 640x480 with 1 Axes>"
      ]
     },
     "metadata": {},
     "output_type": "display_data"
    }
   ],
   "source": [
    "df_longest_trips = final_df.nlargest(10, 'avg_duration')\n",
    "\n",
    "plt.xticks(rotation='vertical')\n",
    "plt.bar(df_longest_trips['start_station_name'], df_longest_trips['avg_duration']/60)\n",
    "plt.title('Stations which have the longest average trip duration (to start from)')\n",
    "plt.show()\n",
    "plt.clf()\n",
    "\n",
    "df_shortest_trips = final_df.nsmallest(10, 'avg_duration')\n",
    "\n",
    "plt.xticks(rotation='vertical')\n",
    "plt.bar(df_shortest_trips['start_station_name'], df_shortest_trips['avg_duration']/60)\n",
    "plt.title('Stations which have the shortest average trip duration (to start from)')\n",
    "plt.show()"
   ]
  },
  {
   "cell_type": "code",
   "execution_count": 91,
   "metadata": {},
   "outputs": [
    {
     "data": {
      "application/vnd.plotly.v1+json": {
       "config": {
        "plotlyServerURL": "https://plot.ly"
       },
       "data": [
        {
         "lat": [
          60.38026271377996,
          60.39375532002469
         ],
         "lon": [
          5.323223146883635,
          5.3217920958013565
         ],
         "mode": "lines",
         "type": "scattermapbox"
        },
        {
         "hovertemplate": "Trips from Damsgårdsveien 71 to Tårnplass: 14",
         "lat": [
          60.387009016902326
         ],
         "lon": [
          5.3225076213424956
         ],
         "marker": {
          "size": 0
         },
         "mode": "markers",
         "type": "scattermapbox"
        },
        {
         "lat": [
          60.38026271377996,
          60.39514386434325
         ],
         "lon": [
          5.323223146883635,
          5.320002322335455
         ],
         "mode": "lines",
         "type": "scattermapbox"
        },
        {
         "hovertemplate": "Trips from Damsgårdsveien 71 to Østre Murallmenningen nedre: 5",
         "lat": [
          60.387703289061605
         ],
         "lon": [
          5.321612734609545
         ],
         "marker": {
          "size": 0
         },
         "mode": "markers",
         "type": "scattermapbox"
        },
        {
         "lat": [
          60.38026271377996,
          60.38668149584837
         ],
         "lon": [
          5.323223146883635,
          5.3309780770646
         ],
         "mode": "lines",
         "type": "scattermapbox"
        },
        {
         "hovertemplate": "Trips from Damsgårdsveien 71 to St. Jakobs Plass: 49",
         "lat": [
          60.38347210481417
         ],
         "lon": [
          5.327100611974117
         ],
         "marker": {
          "size": 0
         },
         "mode": "markers",
         "type": "scattermapbox"
        },
        {
         "lat": [
          60.38026271377996,
          60.39454985253085
         ],
         "lon": [
          5.323223146883635,
          5.327049981572372
         ],
         "mode": "lines",
         "type": "scattermapbox"
        },
        {
         "hovertemplate": "Trips from Damsgårdsveien 71 to Nedre Korskirkeallmenning: 30",
         "lat": [
          60.38740628315541
         ],
         "lon": [
          5.3251365642280035
         ],
         "marker": {
          "size": 0
         },
         "mode": "markers",
         "type": "scattermapbox"
        },
        {
         "lat": [
          60.38026271377996,
          60.37514055132067
         ],
         "lon": [
          5.323223146883635,
          5.338517421420761
         ],
         "mode": "lines",
         "type": "scattermapbox"
        },
        {
         "hovertemplate": "Trips from Damsgårdsveien 71 to Solheimsgaten (ved Extra): 55",
         "lat": [
          60.37770163255031
         ],
         "lon": [
          5.330870284152198
         ],
         "marker": {
          "size": 0
         },
         "mode": "markers",
         "type": "scattermapbox"
        },
        {
         "lat": [
          60.38026271377996,
          60.38904687509401
         ],
         "lon": [
          5.323223146883635,
          5.321882967938819
         ],
         "mode": "lines",
         "type": "scattermapbox"
        },
        {
         "hovertemplate": "Trips from Damsgårdsveien 71 to Rosenbergsgaten: 8",
         "lat": [
          60.38465479443698
         ],
         "lon": [
          5.322553057411227
         ],
         "marker": {
          "size": 0
         },
         "mode": "markers",
         "type": "scattermapbox"
        },
        {
         "lat": [
          60.38026271377996,
          60.37178687508714
         ],
         "lon": [
          5.323223146883635,
          5.349552885719248
         ],
         "mode": "lines",
         "type": "scattermapbox"
        },
        {
         "hovertemplate": "Trips from Damsgårdsveien 71 to Kronstad bybanestopp: 17",
         "lat": [
          60.37602479443355
         ],
         "lon": [
          5.336388016301441
         ],
         "marker": {
          "size": 0
         },
         "mode": "markers",
         "type": "scattermapbox"
        },
        {
         "lat": [
          60.38026271377996,
          60.391123958982405
         ],
         "lon": [
          5.323223146883635,
          5.325713785893413
         ],
         "mode": "lines",
         "type": "scattermapbox"
        },
        {
         "hovertemplate": "Trips from Damsgårdsveien 71 to Festplassen: 27",
         "lat": [
          60.38569333638118
         ],
         "lon": [
          5.324468466388524
         ],
         "marker": {
          "size": 0
         },
         "mode": "markers",
         "type": "scattermapbox"
        },
        {
         "lat": [
          60.38026271377996,
          60.38445114789948
         ],
         "lon": [
          5.323223146883635,
          5.324440726278226
         ],
         "mode": "lines",
         "type": "scattermapbox"
        },
        {
         "hovertemplate": "Trips from Damsgårdsveien 71 to Welhavens gate 64: 11",
         "lat": [
          60.38235693083972
         ],
         "lon": [
          5.32383193658093
         ],
         "marker": {
          "size": 0
         },
         "mode": "markers",
         "type": "scattermapbox"
        },
        {
         "lat": [
          60.38026271377996,
          60.38604412210008
         ],
         "lon": [
          5.323223146883635,
          5.349253890141261
         ],
         "mode": "lines",
         "type": "scattermapbox"
        },
        {
         "hovertemplate": "Trips from Damsgårdsveien 71 to Hansaparken: 11",
         "lat": [
          60.38315341794002
         ],
         "lon": [
          5.336238518512448
         ],
         "marker": {
          "size": 0
         },
         "mode": "markers",
         "type": "scattermapbox"
        },
        {
         "lat": [
          60.38026271377996,
          60.390414110522414
         ],
         "lon": [
          5.323223146883635,
          5.332650453823391
         ],
         "mode": "lines",
         "type": "scattermapbox"
        },
        {
         "hovertemplate": "Trips from Damsgårdsveien 71 to Bergen jernbanestasjon: 21",
         "lat": [
          60.385338412151185
         ],
         "lon": [
          5.327936800353513
         ],
         "marker": {
          "size": 0
         },
         "mode": "markers",
         "type": "scattermapbox"
        },
        {
         "lat": [
          60.38026271377996,
          60.38967202352878
         ],
         "lon": [
          5.323223146883635,
          5.3336050852019525
         ],
         "mode": "lines",
         "type": "scattermapbox"
        },
        {
         "hovertemplate": "Trips from Damsgårdsveien 71 to Nonneseterplass: 56",
         "lat": [
          60.38496736865437
         ],
         "lon": [
          5.328414116042794
         ],
         "marker": {
          "size": 0
         },
         "mode": "markers",
         "type": "scattermapbox"
        },
        {
         "lat": [
          60.38026271377996,
          60.395137943082446
         ],
         "lon": [
          5.323223146883635,
          5.314946630388022
         ],
         "mode": "lines",
         "type": "scattermapbox"
        },
        {
         "hovertemplate": "Trips from Damsgårdsveien 71 to Klosteret: 5",
         "lat": [
          60.38770032843121
         ],
         "lon": [
          5.319084888635828
         ],
         "marker": {
          "size": 0
         },
         "mode": "markers",
         "type": "scattermapbox"
        },
        {
         "lat": [
          60.38026271377996,
          60.39865649373253
         ],
         "lon": [
          5.323223146883635,
          5.3221425864564935
         ],
         "mode": "lines",
         "type": "scattermapbox"
        },
        {
         "hovertemplate": "Trips from Damsgårdsveien 71 to Dreggsallmenningen Nord: 1",
         "lat": [
          60.38945960375625
         ],
         "lon": [
          5.322682866670064
         ],
         "marker": {
          "size": 0
         },
         "mode": "markers",
         "type": "scattermapbox"
        },
        {
         "lat": [
          60.38026271377996,
          60.382254745562825
         ],
         "lon": [
          5.323223146883635,
          5.3323324699108525
         ],
         "mode": "lines",
         "type": "scattermapbox"
        },
        {
         "hovertemplate": "Trips from Damsgårdsveien 71 to Florida Bybanestopp: 77",
         "lat": [
          60.381258729671394
         ],
         "lon": [
          5.327777808397244
         ],
         "marker": {
          "size": 0
         },
         "mode": "markers",
         "type": "scattermapbox"
        },
        {
         "lat": [
          60.38026271377996,
          60.38316244112318
         ],
         "lon": [
          5.323223146883635,
          5.324053067317891
         ],
         "mode": "lines",
         "type": "scattermapbox"
        },
        {
         "hovertemplate": "Trips from Damsgårdsveien 71 to Thormøhlens gate: 50",
         "lat": [
          60.38171257745157
         ],
         "lon": [
          5.323638107100763
         ],
         "marker": {
          "size": 0
         },
         "mode": "markers",
         "type": "scattermapbox"
        },
        {
         "lat": [
          60.38026271377996,
          60.39291769029913
         ],
         "lon": [
          5.323223146883635,
          5.323669092809325
         ],
         "mode": "lines",
         "type": "scattermapbox"
        },
        {
         "hovertemplate": "Trips from Damsgårdsveien 71 to Torgallmenningen: 25",
         "lat": [
          60.38659020203954
         ],
         "lon": [
          5.32344611984648
         ],
         "marker": {
          "size": 0
         },
         "mode": "markers",
         "type": "scattermapbox"
        },
        {
         "lat": [
          60.38026271377996,
          60.39886453454994
         ],
         "lon": [
          5.323223146883635,
          5.306410871328268
         ],
         "mode": "lines",
         "type": "scattermapbox"
        },
        {
         "hovertemplate": "Trips from Damsgårdsveien 71 to Takhagen på Nordnes: 0",
         "lat": [
          60.38956362416495
         ],
         "lon": [
          5.314817009105951
         ],
         "marker": {
          "size": 0
         },
         "mode": "markers",
         "type": "scattermapbox"
        },
        {
         "lat": [
          60.38026271377996,
          60.39097915423838
         ],
         "lon": [
          5.323223146883635,
          5.320656172070585
         ],
         "mode": "lines",
         "type": "scattermapbox"
        },
        {
         "hovertemplate": "Trips from Damsgårdsveien 71 to Neumanns gate II: 9",
         "lat": [
          60.38562093400917
         ],
         "lon": [
          5.32193965947711
         ],
         "marker": {
          "size": 0
         },
         "mode": "markers",
         "type": "scattermapbox"
        },
        {
         "lat": [
          60.38026271377996,
          60.379894791874165
         ],
         "lon": [
          5.323223146883635,
          5.35207758319504
         ],
         "mode": "lines",
         "type": "scattermapbox"
        },
        {
         "hovertemplate": "Trips from Damsgårdsveien 71 to Møllendalsplass: 46",
         "lat": [
          60.38007875282706
         ],
         "lon": [
          5.337650365039337
         ],
         "marker": {
          "size": 0
         },
         "mode": "markers",
         "type": "scattermapbox"
        },
        {
         "lat": [
          60.38026271377996,
          60.396949224333255
         ],
         "lon": [
          5.323223146883635,
          5.313494727727743
         ],
         "mode": "lines",
         "type": "scattermapbox"
        },
        {
         "hovertemplate": "Trips from Damsgårdsveien 71 to Nykirken: 33",
         "lat": [
          60.38860596905661
         ],
         "lon": [
          5.318358937305689
         ],
         "marker": {
          "size": 0
         },
         "mode": "markers",
         "type": "scattermapbox"
        },
        {
         "lat": [
          60.38026271377996,
          60.39397677863768
         ],
         "lon": [
          5.323223146883635,
          5.318713236118583
         ],
         "mode": "lines",
         "type": "scattermapbox"
        },
        {
         "hovertemplate": "Trips from Damsgårdsveien 71 to Østre Murallmenningen øvre: 1",
         "lat": [
          60.387119746208825
         ],
         "lon": [
          5.320968191501109
         ],
         "marker": {
          "size": 0
         },
         "mode": "markers",
         "type": "scattermapbox"
        },
        {
         "lat": [
          60.38026271377996,
          60.38151150199543
         ],
         "lon": [
          5.323223146883635,
          5.319435364152128
         ],
         "mode": "lines",
         "type": "scattermapbox"
        },
        {
         "hovertemplate": "Trips from Damsgårdsveien 71 to Damsgårdsveien: 22",
         "lat": [
          60.3808871078877
         ],
         "lon": [
          5.321329255517881
         ],
         "marker": {
          "size": 0
         },
         "mode": "markers",
         "type": "scattermapbox"
        },
        {
         "lat": [
          60.38026271377996,
          60.395877002094046
         ],
         "lon": [
          5.323223146883635,
          5.307755827707297
         ],
         "mode": "lines",
         "type": "scattermapbox"
        },
        {
         "hovertemplate": "Trips from Damsgårdsveien 71 to Verftet: 17",
         "lat": [
          60.388069857937005
         ],
         "lon": [
          5.315489487295466
         ],
         "marker": {
          "size": 0
         },
         "mode": "markers",
         "type": "scattermapbox"
        },
        {
         "lat": [
          60.38026271377996,
          60.39705738914522
         ],
         "lon": [
          5.323223146883635,
          5.314548482139799
         ],
         "mode": "lines",
         "type": "scattermapbox"
        },
        {
         "hovertemplate": "Trips from Damsgårdsveien 71 to Nykirkekaien: 1",
         "lat": [
          60.388660051462594
         ],
         "lon": [
          5.318885814511717
         ],
         "marker": {
          "size": 0
         },
         "mode": "markers",
         "type": "scattermapbox"
        },
        {
         "lat": [
          60.38026271377996,
          60.367425453190464
         ],
         "lon": [
          5.323223146883635,
          5.3551910634374735
         ],
         "mode": "lines",
         "type": "scattermapbox"
        },
        {
         "hovertemplate": "Trips from Damsgårdsveien 71 to Brann Stadion: 6",
         "lat": [
          60.37384408348521
         ],
         "lon": [
          5.339207105160554
         ],
         "marker": {
          "size": 0
         },
         "mode": "markers",
         "type": "scattermapbox"
        },
        {
         "lat": [
          60.38026271377996,
          60.38719801795013
         ],
         "lon": [
          5.323223146883635,
          5.322980046239536
         ],
         "mode": "lines",
         "type": "scattermapbox"
        },
        {
         "hovertemplate": "Trips from Damsgårdsveien 71 to Studentsenteret UiB: 1",
         "lat": [
          60.38373036586505
         ],
         "lon": [
          5.323101596561585
         ],
         "marker": {
          "size": 0
         },
         "mode": "markers",
         "type": "scattermapbox"
        },
        {
         "lat": [
          60.38026271377996,
          60.39622446162616
         ],
         "lon": [
          5.323223146883635,
          5.315384703788823
         ],
         "mode": "lines",
         "type": "scattermapbox"
        },
        {
         "hovertemplate": "Trips from Damsgårdsveien 71 to Comfort Hotel Bergen: 4",
         "lat": [
          60.38824358770306
         ],
         "lon": [
          5.319303925336229
         ],
         "marker": {
          "size": 0
         },
         "mode": "markers",
         "type": "scattermapbox"
        },
        {
         "lat": [
          60.38026271377996,
          60.41294568274233
         ],
         "lon": [
          5.323223146883635,
          5.320870309021842
         ],
         "mode": "lines",
         "type": "scattermapbox"
        },
        {
         "hovertemplate": "Trips from Damsgårdsveien 71 to Sandviken Brygge: 4",
         "lat": [
          60.396604198261144
         ],
         "lon": [
          5.322046727952738
         ],
         "marker": {
          "size": 0
         },
         "mode": "markers",
         "type": "scattermapbox"
        },
        {
         "lat": [
          60.38026271377996,
          60.39987652272946
         ],
         "lon": [
          5.323223146883635,
          5.304686307890734
         ],
         "mode": "lines",
         "type": "scattermapbox"
        },
        {
         "hovertemplate": "Trips from Damsgårdsveien 71 to Akvariet: 0",
         "lat": [
          60.390069618254714
         ],
         "lon": [
          5.313954727387184
         ],
         "marker": {
          "size": 0
         },
         "mode": "markers",
         "type": "scattermapbox"
        },
        {
         "lat": [
          60.38026271377996,
          60.393323250707
         ],
         "lon": [
          5.323223146883635,
          5.330654155344547
         ],
         "mode": "lines",
         "type": "scattermapbox"
        },
        {
         "hovertemplate": "Trips from Damsgårdsveien 71 to Kong Oscars gate: 3",
         "lat": [
          60.38679298224348
         ],
         "lon": [
          5.326938651114091
         ],
         "marker": {
          "size": 0
         },
         "mode": "markers",
         "type": "scattermapbox"
        },
        {
         "lat": [
          60.38026271377996,
          60.3867091497868
         ],
         "lon": [
          5.323223146883635,
          5.299130112557805
         ],
         "mode": "lines",
         "type": "scattermapbox"
        },
        {
         "hovertemplate": "Trips from Damsgårdsveien 71 to Damsgårdsallmenningen: 71",
         "lat": [
          60.38348593178338
         ],
         "lon": [
          5.31117662972072
         ],
         "marker": {
          "size": 0
         },
         "mode": "markers",
         "type": "scattermapbox"
        },
        {
         "lat": [
          60.38026271377996,
          60.386068777690944
         ],
         "lon": [
          5.323223146883635,
          5.3001083072740585
         ],
         "mode": "lines",
         "type": "scattermapbox"
        },
        {
         "hovertemplate": "Trips from Damsgårdsveien 71 to Laksevåg v/Kirkebukten: 39",
         "lat": [
          60.383165745735454
         ],
         "lon": [
          5.3116657270788465
         ],
         "marker": {
          "size": 0
         },
         "mode": "markers",
         "type": "scattermapbox"
        },
        {
         "lat": [
          60.38026271377996,
          60.37802198798124
         ],
         "lon": [
          5.323223146883635,
          5.329383048102329
         ],
         "mode": "lines",
         "type": "scattermapbox"
        },
        {
         "hovertemplate": "Trips from Damsgårdsveien 71 to Damsgårdsveien 2: 17",
         "lat": [
          60.3791423508806
         ],
         "lon": [
          5.326303097492982
         ],
         "marker": {
          "size": 0
         },
         "mode": "markers",
         "type": "scattermapbox"
        },
        {
         "lat": [
          60.38026271377996,
          60.39587808663882
         ],
         "lon": [
          5.323223146883635,
          5.325283812313046
         ],
         "mode": "lines",
         "type": "scattermapbox"
        },
        {
         "hovertemplate": "Trips from Damsgårdsveien 71 to Torget: 4",
         "lat": [
          60.388070400209386
         ],
         "lon": [
          5.32425347959834
         ],
         "marker": {
          "size": 0
         },
         "mode": "markers",
         "type": "scattermapbox"
        },
        {
         "lat": [
          60.38026271377996,
          60.39118461048114
         ],
         "lon": [
          5.323223146883635,
          5.318026298282803
         ],
         "mode": "lines",
         "type": "scattermapbox"
        },
        {
         "hovertemplate": "Trips from Damsgårdsveien 71 to Håkonsgaten: 7",
         "lat": [
          60.38572366213055
         ],
         "lon": [
          5.320624722583219
         ],
         "marker": {
          "size": 0
         },
         "mode": "markers",
         "type": "scattermapbox"
        },
        {
         "lat": [
          60.38026271377996,
          60.37708169275558
         ],
         "lon": [
          5.323223146883635,
          5.335575458852787
         ],
         "mode": "lines",
         "type": "scattermapbox"
        },
        {
         "hovertemplate": "Trips from Damsgårdsveien 71 to Solheimsviken: 17",
         "lat": [
          60.37867220326777
         ],
         "lon": [
          5.329399302868211
         ],
         "marker": {
          "size": 0
         },
         "mode": "markers",
         "type": "scattermapbox"
        },
        {
         "lat": [
          60.38026271377996,
          60.38591618700343
         ],
         "lon": [
          5.323223146883635,
          5.319206933440256
         ],
         "mode": "lines",
         "type": "scattermapbox"
        },
        {
         "hovertemplate": "Trips from Damsgårdsveien 71 to Puddefjordsbroen: 21",
         "lat": [
          60.383089450391694
         ],
         "lon": [
          5.321215040161945
         ],
         "marker": {
          "size": 0
         },
         "mode": "markers",
         "type": "scattermapbox"
        },
        {
         "lat": [
          60.38026271377996,
          60.37878279018753
         ],
         "lon": [
          5.323223146883635,
          5.3333274872102265
         ],
         "mode": "lines",
         "type": "scattermapbox"
        },
        {
         "hovertemplate": "Trips from Damsgårdsveien 71 to Moxy Hotellet: 38",
         "lat": [
          60.37952275198374
         ],
         "lon": [
          5.328275317046931
         ],
         "marker": {
          "size": 0
         },
         "mode": "markers",
         "type": "scattermapbox"
        },
        {
         "lat": [
          60.38026271377996,
          60.369179844976586
         ],
         "lon": [
          5.323223146883635,
          5.349443793165847
         ],
         "mode": "lines",
         "type": "scattermapbox"
        },
        {
         "hovertemplate": "Trips from Damsgårdsveien 71 to Høgskulen på Vestlandet: 10",
         "lat": [
          60.37472127937828
         ],
         "lon": [
          5.336333470024741
         ],
         "marker": {
          "size": 0
         },
         "mode": "markers",
         "type": "scattermapbox"
        },
        {
         "lat": [
          60.38026271377996,
          60.408582102784685
         ],
         "lon": [
          5.323223146883635,
          5.322648583141813
         ],
         "mode": "lines",
         "type": "scattermapbox"
        },
        {
         "hovertemplate": "Trips from Damsgårdsveien 71 to Sandvikstorget: 1",
         "lat": [
          60.394422408282324
         ],
         "lon": [
          5.322935865012724
         ],
         "marker": {
          "size": 0
         },
         "mode": "markers",
         "type": "scattermapbox"
        },
        {
         "lat": [
          60.38026271377996,
          60.37810721367397
         ],
         "lon": [
          5.323223146883635,
          5.331020769519228
         ],
         "mode": "lines",
         "type": "scattermapbox"
        },
        {
         "hovertemplate": "Trips from Damsgårdsveien 71 to Krohnviken: 32",
         "lat": [
          60.37918496372697
         ],
         "lon": [
          5.327121958201431
         ],
         "marker": {
          "size": 0
         },
         "mode": "markers",
         "type": "scattermapbox"
        },
        {
         "lat": [
          60.38026271377996,
          60.39267683527631
         ],
         "lon": [
          5.323223146883635,
          5.317308285189142
         ],
         "mode": "lines",
         "type": "scattermapbox"
        },
        {
         "hovertemplate": "Trips from Damsgårdsveien 71 to Jonsvollkvartalet: 48",
         "lat": [
          60.38646977452814
         ],
         "lon": [
          5.320265716036388
         ],
         "marker": {
          "size": 0
         },
         "mode": "markers",
         "type": "scattermapbox"
        },
        {
         "lat": [
          60.38026271377996,
          60.385922875207626
         ],
         "lon": [
          5.323223146883635,
          5.321431717819451
         ],
         "mode": "lines",
         "type": "scattermapbox"
        },
        {
         "hovertemplate": "Trips from Damsgårdsveien 71 to Ole Vigs gate: 36",
         "lat": [
          60.38309279449379
         ],
         "lon": [
          5.322327432351543
         ],
         "marker": {
          "size": 0
         },
         "mode": "markers",
         "type": "scattermapbox"
        },
        {
         "lat": [
          60.38026271377996,
          60.37049377702599
         ],
         "lon": [
          5.323223146883635,
          5.353846489647282
         ],
         "mode": "lines",
         "type": "scattermapbox"
        },
        {
         "hovertemplate": "Trips from Damsgårdsveien 71 to Haukelandshallen: 0",
         "lat": [
          60.37537824540298
         ],
         "lon": [
          5.338534818265458
         ],
         "marker": {
          "size": 0
         },
         "mode": "markers",
         "type": "scattermapbox"
        },
        {
         "lat": [
          60.38026271377996,
          60.38972226200196
         ],
         "lon": [
          5.323223146883635,
          5.314854189834826
         ],
         "mode": "lines",
         "type": "scattermapbox"
        },
        {
         "hovertemplate": "Trips from Damsgårdsveien 71 to Magnus Lagabøtes Plass: 1",
         "lat": [
          60.38499248789096
         ],
         "lon": [
          5.31903866835923
         ],
         "marker": {
          "size": 0
         },
         "mode": "markers",
         "type": "scattermapbox"
        },
        {
         "lat": [
          60.38026271377996,
          60.39770902893835
         ],
         "lon": [
          5.323223146883635,
          5.32200057798218
         ],
         "mode": "lines",
         "type": "scattermapbox"
        },
        {
         "hovertemplate": "Trips from Damsgårdsveien 71 to Dreggsallmenningen Sør: 6",
         "lat": [
          60.388985871359154
         ],
         "lon": [
          5.3226118624329075
         ],
         "marker": {
          "size": 0
         },
         "mode": "markers",
         "type": "scattermapbox"
        },
        {
         "lat": [
          60.38026271377996,
          60.408096993005785
         ],
         "lon": [
          5.323223146883635,
          5.325510899047174
         ],
         "mode": "lines",
         "type": "scattermapbox"
        },
        {
         "hovertemplate": "Trips from Damsgårdsveien 71 to Amalie Skrams vei Sør: 0",
         "lat": [
          60.39417985339287
         ],
         "lon": [
          5.324367022965404
         ],
         "marker": {
          "size": 0
         },
         "mode": "markers",
         "type": "scattermapbox"
        },
        {
         "lat": [
          60.38026271377996,
          60.38658166593217
         ],
         "lon": [
          5.323223146883635,
          5.327978744635743
         ],
         "mode": "lines",
         "type": "scattermapbox"
        },
        {
         "hovertemplate": "Trips from Damsgårdsveien 71 to Fosswinckels gate: 2",
         "lat": [
          60.38342218985606
         ],
         "lon": [
          5.325600945759689
         ],
         "marker": {
          "size": 0
         },
         "mode": "markers",
         "type": "scattermapbox"
        },
        {
         "lat": [
          60.38026271377996,
          60.373985939857135
         ],
         "lon": [
          5.323223146883635,
          5.342082137178068
         ],
         "mode": "lines",
         "type": "scattermapbox"
        },
        {
         "hovertemplate": "Trips from Damsgårdsveien 71 to Bjørnsonsgate: 5",
         "lat": [
          60.377124326818546
         ],
         "lon": [
          5.332652642030851
         ],
         "marker": {
          "size": 0
         },
         "mode": "markers",
         "type": "scattermapbox"
        },
        {
         "lat": [
          60.38026271377996,
          60.38890977889046
         ],
         "lon": [
          5.323223146883635,
          5.333817119783134
         ],
         "mode": "lines",
         "type": "scattermapbox"
        },
        {
         "hovertemplate": "Trips from Damsgårdsveien 71 to Busstasjonen 1 Nord: 42",
         "lat": [
          60.38458624633521
         ],
         "lon": [
          5.3285201333333845
         ],
         "marker": {
          "size": 0
         },
         "mode": "markers",
         "type": "scattermapbox"
        },
        {
         "lat": [
          60.38026271377996,
          60.38246949877819
         ],
         "lon": [
          5.323223146883635,
          5.32609348920866
         ],
         "mode": "lines",
         "type": "scattermapbox"
        },
        {
         "hovertemplate": "Trips from Damsgårdsveien 71 to Cornerteateret: 36",
         "lat": [
          60.381366106279074
         ],
         "lon": [
          5.324658318046147
         ],
         "marker": {
          "size": 0
         },
         "mode": "markers",
         "type": "scattermapbox"
        },
        {
         "lat": [
          60.38026271377996,
          60.38828383354144
         ],
         "lon": [
          5.323223146883635,
          5.332872680372475
         ],
         "mode": "lines",
         "type": "scattermapbox"
        },
        {
         "hovertemplate": "Trips from Damsgårdsveien 71 to Busstasjonen 2 Vest: 3",
         "lat": [
          60.3842732736607
         ],
         "lon": [
          5.328047913628055
         ],
         "marker": {
          "size": 0
         },
         "mode": "markers",
         "type": "scattermapbox"
        },
        {
         "lat": [
          60.38026271377996,
          60.376082994809856
         ],
         "lon": [
          5.323223146883635,
          5.339851409058042
         ],
         "mode": "lines",
         "type": "scattermapbox"
        },
        {
         "hovertemplate": "Trips from Damsgårdsveien 71 to Danmarksplass: 34",
         "lat": [
          60.37817285429491
         ],
         "lon": [
          5.331537277970838
         ],
         "marker": {
          "size": 0
         },
         "mode": "markers",
         "type": "scattermapbox"
        },
        {
         "lat": [
          60.38026271377996,
          60.37831673774707
         ],
         "lon": [
          5.323223146883635,
          5.350897458652753
         ],
         "mode": "lines",
         "type": "scattermapbox"
        },
        {
         "hovertemplate": "Trips from Damsgårdsveien 71 to Studentboligene: 9",
         "lat": [
          60.37928972576351
         ],
         "lon": [
          5.337060302768194
         ],
         "marker": {
          "size": 0
         },
         "mode": "markers",
         "type": "scattermapbox"
        },
        {
         "lat": [
          60.38026271377996,
          60.395070112977045
         ],
         "lon": [
          5.323223146883635,
          5.31879835082907
         ],
         "mode": "lines",
         "type": "scattermapbox"
        },
        {
         "hovertemplate": "Trips from Damsgårdsveien 71 to Gågaten: 0",
         "lat": [
          60.387666413378504
         ],
         "lon": [
          5.321010748856352
         ],
         "marker": {
          "size": 0
         },
         "mode": "markers",
         "type": "scattermapbox"
        },
        {
         "lat": [
          60.38026271377996,
          60.3906427466302
         ],
         "lon": [
          5.323223146883635,
          5.324397430398562
         ],
         "mode": "lines",
         "type": "scattermapbox"
        },
        {
         "hovertemplate": "Trips from Damsgårdsveien 71 to Permanenten: 4",
         "lat": [
          60.38545273020508
         ],
         "lon": [
          5.3238102886410985
         ],
         "marker": {
          "size": 0
         },
         "mode": "markers",
         "type": "scattermapbox"
        },
        {
         "lat": [
          60.38026271377996,
          60.387853713374845
         ],
         "lon": [
          5.323223146883635,
          5.318712852428234
         ],
         "mode": "lines",
         "type": "scattermapbox"
        },
        {
         "hovertemplate": "Trips from Damsgårdsveien 71 to HF-Bygget: 0",
         "lat": [
          60.384058213577404
         ],
         "lon": [
          5.3209679996559345
         ],
         "marker": {
          "size": 0
         },
         "mode": "markers",
         "type": "scattermapbox"
        },
        {
         "lat": [
          60.38026271377996,
          60.390174061139966
         ],
         "lon": [
          5.323223146883635,
          5.324792207669702
         ],
         "mode": "lines",
         "type": "scattermapbox"
        },
        {
         "hovertemplate": "Trips from Damsgårdsveien 71 to Stenersen: 40",
         "lat": [
          60.385218387459965
         ],
         "lon": [
          5.3240076772766685
         ],
         "marker": {
          "size": 0
         },
         "mode": "markers",
         "type": "scattermapbox"
        },
        {
         "lat": [
          60.38026271377996,
          60.390108717939874
         ],
         "lon": [
          5.323223146883635,
          5.3353874337574325
         ],
         "mode": "lines",
         "type": "scattermapbox"
        },
        {
         "hovertemplate": "Trips from Damsgårdsveien 71 to Zander Kaaes gate: 2",
         "lat": [
          60.38518571585992
         ],
         "lon": [
          5.329305290320534
         ],
         "marker": {
          "size": 0
         },
         "mode": "markers",
         "type": "scattermapbox"
        },
        {
         "lat": [
          60.38026271377996,
          60.39947506336557
         ],
         "lon": [
          5.323223146883635,
          5.308762204430565
         ],
         "mode": "lines",
         "type": "scattermapbox"
        },
        {
         "hovertemplate": "Trips from Damsgårdsveien 71 to C. Sundts gate: 0",
         "lat": [
          60.389868888572764
         ],
         "lon": [
          5.3159926756571
         ],
         "marker": {
          "size": 0
         },
         "mode": "markers",
         "type": "scattermapbox"
        },
        {
         "lat": [
          60.38026271377996,
          60.40222876911276
         ],
         "lon": [
          5.323223146883635,
          5.320744723528605
         ],
         "mode": "lines",
         "type": "scattermapbox"
        },
        {
         "hovertemplate": "Trips from Damsgårdsveien 71 to Skutevikstorget: 3",
         "lat": [
          60.39124574144636
         ],
         "lon": [
          5.32198393520612
         ],
         "marker": {
          "size": 0
         },
         "mode": "markers",
         "type": "scattermapbox"
        },
        {
         "lat": [
          60.38026271377996,
          60.38705878935416
         ],
         "lon": [
          5.323223146883635,
          5.335633911730724
         ],
         "mode": "lines",
         "type": "scattermapbox"
        },
        {
         "hovertemplate": "Trips from Damsgårdsveien 71 to Busstasjonen 4 Sør: 4",
         "lat": [
          60.383660751567064
         ],
         "lon": [
          5.3294285293071795
         ],
         "marker": {
          "size": 0
         },
         "mode": "markers",
         "type": "scattermapbox"
        },
        {
         "lat": [
          60.38026271377996,
          60.39148438859138
         ],
         "lon": [
          5.323223146883635,
          5.328519197920741
         ],
         "mode": "lines",
         "type": "scattermapbox"
        },
        {
         "hovertemplate": "Trips from Damsgårdsveien 71 to Rådhuset: 2",
         "lat": [
          60.38587355118567
         ],
         "lon": [
          5.325871172402188
         ],
         "marker": {
          "size": 0
         },
         "mode": "markers",
         "type": "scattermapbox"
        },
        {
         "lat": [
          60.38026271377996,
          60.39638423113168
         ],
         "lon": [
          5.323223146883635,
          5.324169337618514
         ],
         "mode": "lines",
         "type": "scattermapbox"
        },
        {
         "hovertemplate": "Trips from Damsgårdsveien 71 to Skur 11: 5",
         "lat": [
          60.38832347245582
         ],
         "lon": [
          5.323696242251074
         ],
         "marker": {
          "size": 0
         },
         "mode": "markers",
         "type": "scattermapbox"
        },
        {
         "lat": [
          60.38026271377996,
          60.38103776618004
         ],
         "lon": [
          5.323223146883635,
          5.35905189499951
         ],
         "mode": "lines",
         "type": "scattermapbox"
        },
        {
         "hovertemplate": "Trips from Damsgårdsveien 71 to Odontologen: 1",
         "lat": [
          60.38065023998
         ],
         "lon": [
          5.341137520941572
         ],
         "marker": {
          "size": 0
         },
         "mode": "markers",
         "type": "scattermapbox"
        },
        {
         "lat": [
          60.38026271377996,
          60.37911124360612
         ],
         "lon": [
          5.323223146883635,
          5.361202283994771
         ],
         "mode": "lines",
         "type": "scattermapbox"
        },
        {
         "hovertemplate": "Trips from Damsgårdsveien 71 to Haraldsplass: 1",
         "lat": [
          60.379686978693044
         ],
         "lon": [
          5.342212715439203
         ],
         "marker": {
          "size": 0
         },
         "mode": "markers",
         "type": "scattermapbox"
        },
        {
         "lat": [
          60.38026271377996,
          60.39138580667719
         ],
         "lon": [
          5.323223146883635,
          5.319194867192266
         ],
         "mode": "lines",
         "type": "scattermapbox"
        },
        {
         "hovertemplate": "Trips from Damsgårdsveien 71 to Neumanns gate: 13",
         "lat": [
          60.385824260228574
         ],
         "lon": [
          5.32120900703795
         ],
         "marker": {
          "size": 0
         },
         "mode": "markers",
         "type": "scattermapbox"
        },
        {
         "lat": [
          60.38026271377996,
          60.3921816648884
         ],
         "lon": [
          5.323223146883635,
          5.315016280520865
         ],
         "mode": "lines",
         "type": "scattermapbox"
        },
        {
         "hovertemplate": "Trips from Damsgårdsveien 71 to Nøstetorget: 74",
         "lat": [
          60.38622218933418
         ],
         "lon": [
          5.31911971370225
         ],
         "marker": {
          "size": 0
         },
         "mode": "markers",
         "type": "scattermapbox"
        },
        {
         "lat": [
          60.38026271377996,
          60.384467341026586
         ],
         "lon": [
          5.323223146883635,
          5.310007717995973
         ],
         "mode": "lines",
         "type": "scattermapbox"
        },
        {
         "hovertemplate": "Trips from Damsgårdsveien 71 to Frydenbø Marina: 154",
         "lat": [
          60.382365027403274
         ],
         "lon": [
          5.316615432439804
         ],
         "marker": {
          "size": 0
         },
         "mode": "markers",
         "type": "scattermapbox"
        },
        {
         "lat": [
          60.38026271377996,
          60.38543124330305
         ],
         "lon": [
          5.323223146883635,
          5.337431780062616
         ],
         "mode": "lines",
         "type": "scattermapbox"
        },
        {
         "hovertemplate": "Trips from Damsgårdsveien 71 to AdO arena: 67",
         "lat": [
          60.38284697854151
         ],
         "lon": [
          5.330327463473125
         ],
         "marker": {
          "size": 0
         },
         "mode": "markers",
         "type": "scattermapbox"
        },
        {
         "lat": [
          60.38026271377996,
          60.39066508674793
         ],
         "lon": [
          5.323223146883635,
          5.333027169585989
         ],
         "mode": "lines",
         "type": "scattermapbox"
        },
        {
         "hovertemplate": "Trips from Damsgårdsveien 71 to Bergen Jernbanestasjon II: 12",
         "lat": [
          60.38546390026394
         ],
         "lon": [
          5.328125158234812
         ],
         "marker": {
          "size": 0
         },
         "mode": "markers",
         "type": "scattermapbox"
        },
        {
         "lat": [
          60.38026271377996,
          60.391983600413376
         ],
         "lon": [
          5.323223146883635,
          5.32661819461282
         ],
         "mode": "lines",
         "type": "scattermapbox"
        },
        {
         "hovertemplate": "Trips from Damsgårdsveien 71 to Gulating: 5",
         "lat": [
          60.38612315709667
         ],
         "lon": [
          5.324920670748227
         ],
         "marker": {
          "size": 0
         },
         "mode": "markers",
         "type": "scattermapbox"
        },
        {
         "lat": [
          60.38026271377996,
          60.3839343833222
         ],
         "lon": [
          5.323223146883635,
          5.333450454511649
         ],
         "mode": "lines",
         "type": "scattermapbox"
        },
        {
         "hovertemplate": "Trips from Damsgårdsveien 71 to Nygårdsporten: 127",
         "lat": [
          60.382098548551085
         ],
         "lon": [
          5.328336800697642
         ],
         "marker": {
          "size": 0
         },
         "mode": "markers",
         "type": "scattermapbox"
        },
        {
         "lat": [
          60.38026271377996,
          60.380044402639385
         ],
         "lon": [
          5.323223146883635,
          5.350823586678217
         ],
         "mode": "lines",
         "type": "scattermapbox"
        },
        {
         "hovertemplate": "Trips from Damsgårdsveien 71 to Møllestranden: 26",
         "lat": [
          60.38015355820967
         ],
         "lon": [
          5.337023366780926
         ],
         "marker": {
          "size": 0
         },
         "mode": "markers",
         "type": "scattermapbox"
        },
        {
         "lat": [
          60.38026271377996,
          60.38422650043981
         ],
         "lon": [
          5.323223146883635,
          5.3114871140229525
         ],
         "mode": "lines",
         "type": "scattermapbox"
        },
        {
         "hovertemplate": "Trips from Damsgårdsveien 71 to Damsgårdsveien 125: 2",
         "lat": [
          60.38224460710988
         ],
         "lon": [
          5.3173551304532936
         ],
         "marker": {
          "size": 0
         },
         "mode": "markers",
         "type": "scattermapbox"
        },
        {
         "lat": [
          60.38026271377996,
          60.39309812241306
         ],
         "lon": [
          5.323223146883635,
          5.327022724925882
         ],
         "mode": "lines",
         "type": "scattermapbox"
        },
        {
         "hovertemplate": "Trips from Damsgårdsveien 71 to Småstrandgaten: 8",
         "lat": [
          60.38668041809651
         ],
         "lon": [
          5.3251229359047585
         ],
         "marker": {
          "size": 0
         },
         "mode": "markers",
         "type": "scattermapbox"
        },
        {
         "lat": [
          60.38026271377996,
          60.38819667374428
         ],
         "lon": [
          5.323223146883635,
          5.328564137089416
         ],
         "mode": "lines",
         "type": "scattermapbox"
        },
        {
         "hovertemplate": "Trips from Damsgårdsveien 71 to Grieghallen: 12",
         "lat": [
          60.38422969376212
         ],
         "lon": [
          5.325893641986525
         ],
         "marker": {
          "size": 0
         },
         "mode": "markers",
         "type": "scattermapbox"
        },
        {
         "lat": [
          60.38026271377996,
          60.40175764348675
         ],
         "lon": [
          5.323223146883635,
          5.316562300638424
         ],
         "mode": "lines",
         "type": "scattermapbox"
        },
        {
         "hovertemplate": "Trips from Damsgårdsveien 71 to Bontelabo: 16",
         "lat": [
          60.39101017863335
         ],
         "lon": [
          5.319892723761029
         ],
         "marker": {
          "size": 0
         },
         "mode": "markers",
         "type": "scattermapbox"
        },
        {
         "lat": [
          60.38026271377996,
          60.35779657270476
         ],
         "lon": [
          5.323223146883635,
          5.342069876253731
         ],
         "mode": "lines",
         "type": "scattermapbox"
        },
        {
         "hovertemplate": "Trips from Damsgårdsveien 71 to Kristianborg bybanestopp: 10",
         "lat": [
          60.36902964324236
         ],
         "lon": [
          5.332646511568683
         ],
         "marker": {
          "size": 0
         },
         "mode": "markers",
         "type": "scattermapbox"
        },
        {
         "lat": [
          60.38026271377996,
          60.395099485721786
         ],
         "lon": [
          5.323223146883635,
          5.328645087376344
         ],
         "mode": "lines",
         "type": "scattermapbox"
        },
        {
         "hovertemplate": "Trips from Damsgårdsveien 71 to Øvre Korskirkeallmenning: 37",
         "lat": [
          60.38768109975088
         ],
         "lon": [
          5.325934117129989
         ],
         "marker": {
          "size": 0
         },
         "mode": "markers",
         "type": "scattermapbox"
        },
        {
         "lat": [
          60.38026271377996,
          60.38785633733042
         ],
         "lon": [
          5.323223146883635,
          5.334459219764085
         ],
         "mode": "lines",
         "type": "scattermapbox"
        },
        {
         "hovertemplate": "Trips from Damsgårdsveien 71 to Busstasjonen 3  Øst: 5",
         "lat": [
          60.38405952555519
         ],
         "lon": [
          5.32884118332386
         ],
         "marker": {
          "size": 0
         },
         "mode": "markers",
         "type": "scattermapbox"
        },
        {
         "lat": [
          60.38026271377996,
          60.37625279587285
         ],
         "lon": [
          5.323223146883635,
          5.334276104612741
         ],
         "mode": "lines",
         "type": "scattermapbox"
        },
        {
         "hovertemplate": "Trips from Damsgårdsveien 71 to Bøhmergaten: 4",
         "lat": [
          60.37825775482641
         ],
         "lon": [
          5.328749625748188
         ],
         "marker": {
          "size": 0
         },
         "mode": "markers",
         "type": "scattermapbox"
        },
        {
         "lat": [
          60.38026271377996,
          60.393689548634
         ],
         "lon": [
          5.323223146883635,
          5.3265806966931
         ],
         "mode": "lines",
         "type": "scattermapbox"
        },
        {
         "hovertemplate": "Trips from Damsgårdsveien 71 to Vågsallmenningen: 10",
         "lat": [
          60.38697613120698
         ],
         "lon": [
          5.324901921788367
         ],
         "marker": {
          "size": 0
         },
         "mode": "markers",
         "type": "scattermapbox"
        },
        {
         "lat": [
          60.38026271377996,
          60.40190553013225
         ],
         "lon": [
          5.323223146883635,
          5.324747767839426
         ],
         "mode": "lines",
         "type": "scattermapbox"
        },
        {
         "hovertemplate": "Trips from Damsgårdsveien 71 to Hans Hauges gate: 0",
         "lat": [
          60.391084121956105
         ],
         "lon": [
          5.32398545736153
         ],
         "marker": {
          "size": 0
         },
         "mode": "markers",
         "type": "scattermapbox"
        },
        {
         "lat": [
          60.38026271377996,
          60.39265146337743
         ],
         "lon": [
          5.323223146883635,
          5.328976911981613
         ],
         "mode": "lines",
         "type": "scattermapbox"
        },
        {
         "hovertemplate": "Trips from Damsgårdsveien 71 to Allehelgens plass: 38",
         "lat": [
          60.386457088578695
         ],
         "lon": [
          5.326100029432624
         ],
         "marker": {
          "size": 0
         },
         "mode": "markers",
         "type": "scattermapbox"
        },
        {
         "lat": [
          60.38026271377996,
          60.38824732496974
         ],
         "lon": [
          5.323223146883635,
          5.324558211682643
         ],
         "mode": "lines",
         "type": "scattermapbox"
        },
        {
         "hovertemplate": "Trips from Damsgårdsveien 71 to John Lunds plass: 4",
         "lat": [
          60.38425501937485
         ],
         "lon": [
          5.323890679283139
         ],
         "marker": {
          "size": 0
         },
         "mode": "markers",
         "type": "scattermapbox"
        },
        {
         "lat": [
          60.38026271377996,
          60.38963215691683
         ],
         "lon": [
          5.323223146883635,
          5.286516470683409
         ],
         "mode": "lines",
         "type": "scattermapbox"
        },
        {
         "hovertemplate": "Trips from Damsgårdsveien 71 to Laksevåg senter: 24",
         "lat": [
          60.384947435348394
         ],
         "lon": [
          5.304869808783522
         ],
         "marker": {
          "size": 0
         },
         "mode": "markers",
         "type": "scattermapbox"
        },
        {
         "lat": [
          60.38026271377996,
          60.373637920628255
         ],
         "lon": [
          5.323223146883635,
          5.35659456239955
         ],
         "mode": "lines",
         "type": "scattermapbox"
        },
        {
         "hovertemplate": "Trips from Damsgårdsveien 71 to Haukeland sykehus: 1",
         "lat": [
          60.376950317204106
         ],
         "lon": [
          5.3399088546415925
         ],
         "marker": {
          "size": 0
         },
         "mode": "markers",
         "type": "scattermapbox"
        },
        {
         "lat": [
          60.38026271377996,
          60.38174958551062
         ],
         "lon": [
          5.323223146883635,
          5.331698655041777
         ],
         "mode": "lines",
         "type": "scattermapbox"
        },
        {
         "hovertemplate": "Trips from Damsgårdsveien 71 to Høyteknologisenteret: 13",
         "lat": [
          60.38100614964529
         ],
         "lon": [
          5.327460900962706
         ],
         "marker": {
          "size": 0
         },
         "mode": "markers",
         "type": "scattermapbox"
        },
        {
         "lat": [
          60.38026271377996,
          60.38962622255798
         ],
         "lon": [
          5.323223146883635,
          5.3298637396027
         ],
         "mode": "lines",
         "type": "scattermapbox"
        },
        {
         "hovertemplate": "Trips from Damsgårdsveien 71 to Lysverket: 0",
         "lat": [
          60.38494446816897
         ],
         "lon": [
          5.3265434432431675
         ],
         "marker": {
          "size": 0
         },
         "mode": "markers",
         "type": "scattermapbox"
        },
        {
         "lat": [
          60.38026271377996,
          60.38853002489311
         ],
         "lon": [
          5.323223146883635,
          5.318665231464365
         ],
         "mode": "lines",
         "type": "scattermapbox"
        },
        {
         "hovertemplate": "Trips from Damsgårdsveien 71 to Johanneskirken: 2",
         "lat": [
          60.384396369336535
         ],
         "lon": [
          5.320944189174
         ],
         "marker": {
          "size": 0
         },
         "mode": "markers",
         "type": "scattermapbox"
        },
        {
         "lat": [
          60.38026271377996,
          60.38658238047282
         ],
         "lon": [
          5.323223146883635,
          5.326041074182427
         ],
         "mode": "lines",
         "type": "scattermapbox"
        },
        {
         "hovertemplate": "Trips from Damsgårdsveien 71 to Strømgaten: 3",
         "lat": [
          60.383422547126386
         ],
         "lon": [
          5.324632110533031
         ],
         "marker": {
          "size": 0
         },
         "mode": "markers",
         "type": "scattermapbox"
        },
        {
         "lat": [
          60.38026271377996,
          60.3881178890904
         ],
         "lon": [
          5.323223146883635,
          5.331487235597251
         ],
         "mode": "lines",
         "type": "scattermapbox"
        },
        {
         "hovertemplate": "Trips from Damsgårdsveien 71 to Lars Hilles: 40",
         "lat": [
          60.38419030143518
         ],
         "lon": [
          5.327355191240443
         ],
         "marker": {
          "size": 0
         },
         "mode": "markers",
         "type": "scattermapbox"
        },
        {
         "lat": [
          60.38026271377996,
          60.40569501689435
         ],
         "lon": [
          5.323223146883635,
          5.323373526334763
         ],
         "mode": "lines",
         "type": "scattermapbox"
        },
        {
         "hovertemplate": "Trips from Damsgårdsveien 71 to Sandviksbodene: 1",
         "lat": [
          60.392978865337156
         ],
         "lon": [
          5.323298336609199
         ],
         "marker": {
          "size": 0
         },
         "mode": "markers",
         "type": "scattermapbox"
        },
        {
         "lat": [
          60.38026271377996,
          60.38971028611195
         ],
         "lon": [
          5.323223146883635,
          5.314041873201262
         ],
         "mode": "lines",
         "type": "scattermapbox"
        },
        {
         "hovertemplate": "Trips from Damsgårdsveien 71 to Christian Michelsens institutt: 7",
         "lat": [
          60.38498649994595
         ],
         "lon": [
          5.318632510042448
         ],
         "marker": {
          "size": 0
         },
         "mode": "markers",
         "type": "scattermapbox"
        },
        {
         "lat": [
          60.38026271377996,
          60.34929962482292
         ],
         "lon": [
          5.323223146883635,
          5.288490147562243
         ],
         "mode": "lines",
         "type": "scattermapbox"
        },
        {
         "hovertemplate": "Trips from Damsgårdsveien 71 to Fyllingsdalen bussterminal: 0",
         "lat": [
          60.36478116930144
         ],
         "lon": [
          5.305856647222939
         ],
         "marker": {
          "size": 0
         },
         "mode": "markers",
         "type": "scattermapbox"
        },
        {
         "lat": [
          60.38026271377996,
          60.41830821831951
         ],
         "lon": [
          5.323223146883635,
          5.309946203281243
         ],
         "mode": "lines",
         "type": "scattermapbox"
        },
        {
         "hovertemplate": "Trips from Damsgårdsveien 71 to Gamle Bergen: 0",
         "lat": [
          60.39928546604973
         ],
         "lon": [
          5.316584675082439
         ],
         "marker": {
          "size": 0
         },
         "mode": "markers",
         "type": "scattermapbox"
        },
        {
         "lat": [
          60.38026271377996,
          60.34877037988127
         ],
         "lon": [
          5.323223146883635,
          5.288172686196418
         ],
         "mode": "lines",
         "type": "scattermapbox"
        },
        {
         "hovertemplate": "Trips from Damsgårdsveien 71 to Oasen: 0",
         "lat": [
          60.364516546830615
         ],
         "lon": [
          5.305697916540026
         ],
         "marker": {
          "size": 0
         },
         "mode": "markers",
         "type": "scattermapbox"
        },
        {
         "lat": [
          60.38026271377996,
          60.37957605699612
         ],
         "lon": [
          5.323223146883635,
          5.344655017198988
         ],
         "mode": "lines",
         "type": "scattermapbox"
        },
        {
         "hovertemplate": "Trips from Damsgårdsveien 71 to Tonningneset: 1",
         "lat": [
          60.37991938538804
         ],
         "lon": [
          5.3339390820413115
         ],
         "marker": {
          "size": 0
         },
         "mode": "markers",
         "type": "scattermapbox"
        },
        {
         "lat": [
          60.38026271377996,
          60.410929182460585
         ],
         "lon": [
          5.323223146883635,
          5.324662770153282
         ],
         "mode": "lines",
         "type": "scattermapbox"
        },
        {
         "hovertemplate": "Trips from Damsgårdsveien 71 to Amalie Skrams vei Nord: 0",
         "lat": [
          60.395595948120274
         ],
         "lon": [
          5.323942958518458
         ],
         "marker": {
          "size": 0
         },
         "mode": "markers",
         "type": "scattermapbox"
        },
        {
         "lat": [
          60.38026271377996,
          60.39245536165015
         ],
         "lon": [
          5.323223146883635,
          5.320185176096857
         ],
         "mode": "lines",
         "type": "scattermapbox"
        },
        {
         "hovertemplate": "Trips from Damsgårdsveien 71 to Den Nationale Scene: 3",
         "lat": [
          60.38635903771505
         ],
         "lon": [
          5.321704161490246
         ],
         "marker": {
          "size": 0
         },
         "mode": "markers",
         "type": "scattermapbox"
        },
        {
         "lat": [
          60.38026271377996,
          60.40568787342849
         ],
         "lon": [
          5.323223146883635,
          5.325658910381037
         ],
         "mode": "lines",
         "type": "scattermapbox"
        },
        {
         "hovertemplate": "Trips from Damsgårdsveien 71 to Kirkegaten: 2",
         "lat": [
          60.39297529360422
         ],
         "lon": [
          5.324441028632336
         ],
         "marker": {
          "size": 0
         },
         "mode": "markers",
         "type": "scattermapbox"
        },
        {
         "lat": [
          60.38026271377996,
          60.35445411401244
         ],
         "lon": [
          5.323223146883635,
          5.299180336561079
         ],
         "mode": "lines",
         "type": "scattermapbox"
        },
        {
         "hovertemplate": "Trips from Damsgårdsveien 71 to Lynghaug Borettslag: 0",
         "lat": [
          60.3673584138962
         ],
         "lon": [
          5.311201741722357
         ],
         "marker": {
          "size": 0
         },
         "mode": "markers",
         "type": "scattermapbox"
        },
        {
         "lat": [
          60.38026271377996,
          60.35476186261224
         ],
         "lon": [
          5.323223146883635,
          5.293049946752319
         ],
         "mode": "lines",
         "type": "scattermapbox"
        },
        {
         "hovertemplate": "Trips from Damsgårdsveien 71 to Lynghaugparken: 0",
         "lat": [
          60.3675122881961
         ],
         "lon": [
          5.308136546817977
         ],
         "marker": {
          "size": 0
         },
         "mode": "markers",
         "type": "scattermapbox"
        },
        {
         "lat": [
          60.38026271377996,
          60.40248149976336
         ],
         "lon": [
          5.323223146883635,
          5.316471128195502
         ],
         "mode": "lines",
         "type": "scattermapbox"
        },
        {
         "hovertemplate": "Trips from Damsgårdsveien 71 to Bontelabo 8: 6",
         "lat": [
          60.39137210677166
         ],
         "lon": [
          5.319847137539568
         ],
         "marker": {
          "size": 0
         },
         "mode": "markers",
         "type": "scattermapbox"
        },
        {
         "lat": [
          60.38026271377996,
          60.42334343329279
         ],
         "lon": [
          5.323223146883635,
          5.303070676006087
         ],
         "mode": "lines",
         "type": "scattermapbox"
        },
        {
         "hovertemplate": "Trips from Damsgårdsveien 71 to NHH: 0",
         "lat": [
          60.40180307353638
         ],
         "lon": [
          5.313146911444861
         ],
         "marker": {
          "size": 0
         },
         "mode": "markers",
         "type": "scattermapbox"
        },
        {
         "lat": [
          60.38026271377996,
          60.39901997750764
         ],
         "lon": [
          5.323223146883635,
          5.303322069576893
         ],
         "mode": "lines",
         "type": "scattermapbox"
        },
        {
         "hovertemplate": "Trips from Damsgårdsveien 71 to Nordnes Sjøbad: 4",
         "lat": [
          60.3896413456438
         ],
         "lon": [
          5.313272608230264
         ],
         "marker": {
          "size": 0
         },
         "mode": "markers",
         "type": "scattermapbox"
        },
        {
         "lat": [
          60.38026271377996,
          60.349700584307215
         ],
         "lon": [
          5.323223146883635,
          5.278626852345383
         ],
         "mode": "lines",
         "type": "scattermapbox"
        },
        {
         "hovertemplate": "Trips from Damsgårdsveien 71 to Spelhaugen: 0",
         "lat": [
          60.364981649043585
         ],
         "lon": [
          5.300924999614509
         ],
         "marker": {
          "size": 0
         },
         "mode": "markers",
         "type": "scattermapbox"
        },
        {
         "lat": [
          60.38026271377996,
          60.3454585991698
         ],
         "lon": [
          5.323223146883635,
          5.297121899354551
         ],
         "mode": "lines",
         "type": "scattermapbox"
        },
        {
         "hovertemplate": "Trips from Damsgårdsveien 71 to Sælemyr busstopp: 0",
         "lat": [
          60.36286065647488
         ],
         "lon": [
          5.310172523119093
         ],
         "marker": {
          "size": 0
         },
         "mode": "markers",
         "type": "scattermapbox"
        },
        {
         "lat": [
          60.38026271377996,
          60.34515023813836
         ],
         "lon": [
          5.323223146883635,
          5.286669158622601
         ],
         "mode": "lines",
         "type": "scattermapbox"
        },
        {
         "hovertemplate": "Trips from Damsgårdsveien 71 to Ortun Svømmehall: 0",
         "lat": [
          60.36270647595916
         ],
         "lon": [
          5.304946152753118
         ],
         "marker": {
          "size": 0
         },
         "mode": "markers",
         "type": "scattermapbox"
        },
        {
         "lat": [
          60.38026271377996,
          60.388242218095
         ],
         "lon": [
          5.323223146883635,
          5.34094712971887
         ],
         "mode": "lines",
         "type": "scattermapbox"
        },
        {
         "hovertemplate": "Trips from Damsgårdsveien 71 to Kalfarveien 31: 0",
         "lat": [
          60.38425246593748
         ],
         "lon": [
          5.332085138301252
         ],
         "marker": {
          "size": 0
         },
         "mode": "markers",
         "type": "scattermapbox"
        },
        {
         "lat": [
          60.38026271377996,
          60.35264796598477
         ],
         "lon": [
          5.323223146883635,
          5.298680226505098
         ],
         "mode": "lines",
         "type": "scattermapbox"
        },
        {
         "hovertemplate": "Trips from Damsgårdsveien 71 to Dag Hammarskjöldsvei 73: 0",
         "lat": [
          60.366455339882364
         ],
         "lon": [
          5.3109516866943665
         ],
         "marker": {
          "size": 0
         },
         "mode": "markers",
         "type": "scattermapbox"
        },
        {
         "lat": [
          60.38026271377996,
          60.3720506380196
         ],
         "lon": [
          5.323223146883635,
          5.352659970408496
         ],
         "mode": "lines",
         "type": "scattermapbox"
        },
        {
         "hovertemplate": "Trips from Damsgårdsveien 71 to Kronstad: 0",
         "lat": [
          60.37615667589978
         ],
         "lon": [
          5.337941558646065
         ],
         "marker": {
          "size": 0
         },
         "mode": "markers",
         "type": "scattermapbox"
        },
        {
         "lat": [
          60.38026271377996,
          60.34722011283134
         ],
         "lon": [
          5.323223146883635,
          5.273174034250616
         ],
         "mode": "lines",
         "type": "scattermapbox"
        },
        {
         "hovertemplate": "Trips from Damsgårdsveien 71 to Holtet Borettslag: 0",
         "lat": [
          60.36374141330565
         ],
         "lon": [
          5.298198590567125
         ],
         "marker": {
          "size": 0
         },
         "mode": "markers",
         "type": "scattermapbox"
        },
        {
         "lat": [
          60.38026271377996,
          60.34541065445748
         ],
         "lon": [
          5.323223146883635,
          5.28332212346433
         ],
         "mode": "lines",
         "type": "scattermapbox"
        },
        {
         "hovertemplate": "Trips from Damsgårdsveien 71 to Sælen: 0",
         "lat": [
          60.36283668411872
         ],
         "lon": [
          5.3032726351739825
         ],
         "marker": {
          "size": 0
         },
         "mode": "markers",
         "type": "scattermapbox"
        },
        {
         "lat": [
          60.38026271377996,
          60.396329429740746
         ],
         "lon": [
          5.323223146883635,
          5.315115500234867
         ],
         "mode": "lines",
         "type": "scattermapbox"
        },
        {
         "hovertemplate": "Trips from Damsgårdsveien 71 to Comfort Hotel Bergen: 4",
         "lat": [
          60.38829607176035
         ],
         "lon": [
          5.319169323559251
         ],
         "marker": {
          "size": 0
         },
         "mode": "markers",
         "type": "scattermapbox"
        },
        {
         "lat": [
          60.38026271377996,
          60.39296632614153
         ],
         "lon": [
          5.323223146883635,
          5.323538420433351
         ],
         "mode": "lines",
         "type": "scattermapbox"
        },
        {
         "hovertemplate": "Trips from Damsgårdsveien 71 to Torgallmenningen: 25",
         "lat": [
          60.386614519960744
         ],
         "lon": [
          5.323380783658493
         ],
         "marker": {
          "size": 0
         },
         "mode": "markers",
         "type": "scattermapbox"
        },
        {
         "lat": [
          60.38026271377996,
          60.379685765470725
         ],
         "lon": [
          5.323223146883635,
          5.3519936304809335
         ],
         "mode": "lines",
         "type": "scattermapbox"
        },
        {
         "hovertemplate": "Trips from Damsgårdsveien 71 to Møllendalsplass: 46",
         "lat": [
          60.37997423962534
         ],
         "lon": [
          5.337608388682284
         ],
         "marker": {
          "size": 0
         },
         "mode": "markers",
         "type": "scattermapbox"
        },
        {
         "lat": [
          60.38026271377996,
          60.35131138665341
         ],
         "lon": [
          5.323223146883635,
          5.289942788398179
         ],
         "mode": "lines",
         "type": "scattermapbox"
        },
        {
         "hovertemplate": "Trips from Damsgårdsveien 71 to Folke Bernadottesvei 38: 0",
         "lat": [
          60.36578705021668
         ],
         "lon": [
          5.306582967640907
         ],
         "marker": {
          "size": 0
         },
         "mode": "markers",
         "type": "scattermapbox"
        },
        {
         "lat": [
          60.38026271377996,
          60.36046422871607
         ],
         "lon": [
          5.323223146883635,
          5.290126212391755
         ],
         "mode": "lines",
         "type": "scattermapbox"
        },
        {
         "hovertemplate": "Trips from Damsgårdsveien 71 to Vestlund Borettslag: 0",
         "lat": [
          60.37036347124801
         ],
         "lon": [
          5.306674679637695
         ],
         "marker": {
          "size": 0
         },
         "mode": "markers",
         "type": "scattermapbox"
        },
        {
         "lat": [
          60.38026271377996,
          60.34103053759091
         ],
         "lon": [
          5.323223146883635,
          5.291006144381328
         ],
         "mode": "lines",
         "type": "scattermapbox"
        },
        {
         "hovertemplate": "Trips from Damsgårdsveien 71 to Ortustranden: 1",
         "lat": [
          60.36064662568543
         ],
         "lon": [
          5.307114645632481
         ],
         "marker": {
          "size": 0
         },
         "mode": "markers",
         "type": "scattermapbox"
        },
        {
         "hoverinfo": "text",
         "lat": [
          60.38026271377996,
          60.39375532002469,
          60.39514386434325,
          60.38668149584837,
          60.39454985253085,
          60.37514055132067,
          60.38904687509401,
          60.37178687508714,
          60.391123958982405,
          60.38445114789948,
          60.38604412210008,
          60.390414110522414,
          60.38967202352878,
          60.395137943082446,
          60.39865649373253,
          60.382254745562825,
          60.38316244112318,
          60.39291769029913,
          60.39886453454994,
          60.39097915423838,
          60.379894791874165,
          60.396949224333255,
          60.39397677863768,
          60.38151150199543,
          60.395877002094046,
          60.39705738914522,
          60.367425453190464,
          60.38719801795013,
          60.39622446162616,
          60.41294568274233,
          60.39987652272946,
          60.393323250707,
          60.3867091497868,
          60.386068777690944,
          60.37802198798124,
          60.39587808663882,
          60.39118461048114,
          60.37708169275558,
          60.38591618700343,
          60.37878279018753,
          60.369179844976586,
          60.408582102784685,
          60.37810721367397,
          60.39267683527631,
          60.385922875207626,
          60.37049377702599,
          60.38972226200196,
          60.39770902893835,
          60.408096993005785,
          60.38658166593217,
          60.373985939857135,
          60.38890977889046,
          60.38246949877819,
          60.38828383354144,
          60.376082994809856,
          60.37831673774707,
          60.395070112977045,
          60.3906427466302,
          60.387853713374845,
          60.390174061139966,
          60.390108717939874,
          60.39947506336557,
          60.40222876911276,
          60.38705878935416,
          60.39148438859138,
          60.39638423113168,
          60.38103776618004,
          60.37911124360612,
          60.39138580667719,
          60.3921816648884,
          60.384467341026586,
          60.38543124330305,
          60.39066508674793,
          60.391983600413376,
          60.3839343833222,
          60.380044402639385,
          60.38422650043981,
          60.39309812241306,
          60.38819667374428,
          60.40175764348675,
          60.35779657270476,
          60.395099485721786,
          60.38785633733042,
          60.37625279587285,
          60.393689548634,
          60.40190553013225,
          60.39265146337743,
          60.38824732496974,
          60.38963215691683,
          60.373637920628255,
          60.38174958551062,
          60.38962622255798,
          60.38853002489311,
          60.38658238047282,
          60.3881178890904,
          60.40569501689435,
          60.38971028611195,
          60.34929962482292,
          60.41830821831951,
          60.34877037988127,
          60.37957605699612,
          60.410929182460585,
          60.39245536165015,
          60.40568787342849,
          60.35445411401244,
          60.35476186261224,
          60.40248149976336,
          60.42334343329279,
          60.39901997750764,
          60.349700584307215,
          60.3454585991698,
          60.34515023813836,
          60.388242218095,
          60.35264796598477,
          60.3720506380196,
          60.34722011283134,
          60.34541065445748,
          60.396329429740746,
          60.39296632614153,
          60.379685765470725,
          60.35131138665341,
          60.36046422871607,
          60.34103053759091
         ],
         "lon": [
          5.323223146883635,
          5.3217920958013565,
          5.320002322335455,
          5.3309780770646,
          5.327049981572372,
          5.338517421420761,
          5.321882967938819,
          5.349552885719248,
          5.325713785893413,
          5.324440726278226,
          5.349253890141261,
          5.332650453823391,
          5.3336050852019525,
          5.314946630388022,
          5.3221425864564935,
          5.3323324699108525,
          5.324053067317891,
          5.323669092809325,
          5.306410871328268,
          5.320656172070585,
          5.35207758319504,
          5.313494727727743,
          5.318713236118583,
          5.319435364152128,
          5.307755827707297,
          5.314548482139799,
          5.3551910634374735,
          5.322980046239536,
          5.315384703788823,
          5.320870309021842,
          5.304686307890734,
          5.330654155344547,
          5.299130112557805,
          5.3001083072740585,
          5.329383048102329,
          5.325283812313046,
          5.318026298282803,
          5.335575458852787,
          5.319206933440256,
          5.3333274872102265,
          5.349443793165847,
          5.322648583141813,
          5.331020769519228,
          5.317308285189142,
          5.321431717819451,
          5.353846489647282,
          5.314854189834826,
          5.32200057798218,
          5.325510899047174,
          5.327978744635743,
          5.342082137178068,
          5.333817119783134,
          5.32609348920866,
          5.332872680372475,
          5.339851409058042,
          5.350897458652753,
          5.31879835082907,
          5.324397430398562,
          5.318712852428234,
          5.324792207669702,
          5.3353874337574325,
          5.308762204430565,
          5.320744723528605,
          5.335633911730724,
          5.328519197920741,
          5.324169337618514,
          5.35905189499951,
          5.361202283994771,
          5.319194867192266,
          5.315016280520865,
          5.310007717995973,
          5.337431780062616,
          5.333027169585989,
          5.32661819461282,
          5.333450454511649,
          5.350823586678217,
          5.3114871140229525,
          5.327022724925882,
          5.328564137089416,
          5.316562300638424,
          5.342069876253731,
          5.328645087376344,
          5.334459219764085,
          5.334276104612741,
          5.3265806966931,
          5.324747767839426,
          5.328976911981613,
          5.324558211682643,
          5.286516470683409,
          5.35659456239955,
          5.331698655041777,
          5.3298637396027,
          5.318665231464365,
          5.326041074182427,
          5.331487235597251,
          5.323373526334763,
          5.314041873201262,
          5.288490147562243,
          5.309946203281243,
          5.288172686196418,
          5.344655017198988,
          5.324662770153282,
          5.320185176096857,
          5.325658910381037,
          5.299180336561079,
          5.293049946752319,
          5.316471128195502,
          5.303070676006087,
          5.303322069576893,
          5.278626852345383,
          5.297121899354551,
          5.286669158622601,
          5.34094712971887,
          5.298680226505098,
          5.352659970408496,
          5.273174034250616,
          5.28332212346433,
          5.315115500234867,
          5.323538420433351,
          5.3519936304809335,
          5.289942788398179,
          5.290126212391755,
          5.291006144381328
         ],
         "marker": {
          "size": 8
         },
         "mode": "markers",
         "text": [
          "Damsgårdsveien 71",
          "Tårnplass",
          "Østre Murallmenningen nedre",
          "St. Jakobs Plass",
          "Nedre Korskirkeallmenning",
          "Solheimsgaten (ved Extra)",
          "Rosenbergsgaten",
          "Kronstad bybanestopp",
          "Festplassen",
          "Welhavens gate 64",
          "Hansaparken",
          "Bergen jernbanestasjon",
          "Nonneseterplass",
          "Klosteret",
          "Dreggsallmenningen Nord",
          "Florida Bybanestopp",
          "Thormøhlens gate",
          "Torgallmenningen",
          "Takhagen på Nordnes",
          "Neumanns gate II",
          "Møllendalsplass",
          "Nykirken",
          "Østre Murallmenningen øvre",
          "Damsgårdsveien",
          "Verftet",
          "Nykirkekaien",
          "Brann Stadion",
          "Studentsenteret UiB",
          "Comfort Hotel Bergen",
          "Sandviken Brygge",
          "Akvariet",
          "Kong Oscars gate",
          "Damsgårdsallmenningen",
          "Laksevåg v/Kirkebukten",
          "Damsgårdsveien 2",
          "Torget",
          "Håkonsgaten",
          "Solheimsviken",
          "Puddefjordsbroen",
          "Moxy Hotellet",
          "Høgskulen på Vestlandet",
          "Sandvikstorget",
          "Krohnviken",
          "Jonsvollkvartalet",
          "Ole Vigs gate",
          "Haukelandshallen",
          "Magnus Lagabøtes Plass",
          "Dreggsallmenningen Sør",
          "Amalie Skrams vei Sør",
          "Fosswinckels gate",
          "Bjørnsonsgate",
          "Busstasjonen 1 Nord",
          "Cornerteateret",
          "Busstasjonen 2 Vest",
          "Danmarksplass",
          "Studentboligene",
          "Gågaten",
          "Permanenten",
          "HF-Bygget",
          "Stenersen",
          "Zander Kaaes gate",
          "C. Sundts gate",
          "Skutevikstorget",
          "Busstasjonen 4 Sør",
          "Rådhuset",
          "Skur 11",
          "Odontologen",
          "Haraldsplass",
          "Neumanns gate",
          "Nøstetorget",
          "Frydenbø Marina",
          "AdO arena",
          "Bergen Jernbanestasjon II",
          "Gulating",
          "Nygårdsporten",
          "Møllestranden",
          "Damsgårdsveien 125",
          "Småstrandgaten",
          "Grieghallen",
          "Bontelabo",
          "Kristianborg bybanestopp",
          "Øvre Korskirkeallmenning",
          "Busstasjonen 3  Øst",
          "Bøhmergaten",
          "Vågsallmenningen",
          "Hans Hauges gate",
          "Allehelgens plass",
          "John Lunds plass",
          "Laksevåg senter",
          "Haukeland sykehus",
          "Høyteknologisenteret",
          "Lysverket",
          "Johanneskirken",
          "Strømgaten",
          "Lars Hilles",
          "Sandviksbodene",
          "Christian Michelsens institutt",
          "Fyllingsdalen bussterminal",
          "Gamle Bergen",
          "Oasen",
          "Tonningneset",
          "Amalie Skrams vei Nord",
          "Den Nationale Scene",
          "Kirkegaten",
          "Lynghaug Borettslag",
          "Lynghaugparken",
          "Bontelabo 8",
          "NHH",
          "Nordnes Sjøbad",
          "Spelhaugen",
          "Sælemyr busstopp",
          "Ortun Svømmehall",
          "Kalfarveien 31",
          "Dag Hammarskjöldsvei 73",
          "Kronstad",
          "Holtet Borettslag",
          "Sælen",
          "Comfort Hotel Bergen",
          "Torgallmenningen",
          "Møllendalsplass",
          "Folke Bernadottesvei 38",
          "Vestlund Borettslag",
          "Ortustranden"
         ],
         "type": "scattermapbox"
        }
       ],
       "layout": {
        "mapbox": {
         "center": {
          "lat": 60.38026271377996,
          "lon": 5.323223146883635
         },
         "style": "open-street-map",
         "zoom": 10
        },
        "margin": {
         "b": 0,
         "l": 0,
         "r": 0,
         "t": 0
        },
        "template": {
         "data": {
          "bar": [
           {
            "error_x": {
             "color": "#2a3f5f"
            },
            "error_y": {
             "color": "#2a3f5f"
            },
            "marker": {
             "line": {
              "color": "#E5ECF6",
              "width": 0.5
             },
             "pattern": {
              "fillmode": "overlay",
              "size": 10,
              "solidity": 0.2
             }
            },
            "type": "bar"
           }
          ],
          "barpolar": [
           {
            "marker": {
             "line": {
              "color": "#E5ECF6",
              "width": 0.5
             },
             "pattern": {
              "fillmode": "overlay",
              "size": 10,
              "solidity": 0.2
             }
            },
            "type": "barpolar"
           }
          ],
          "carpet": [
           {
            "aaxis": {
             "endlinecolor": "#2a3f5f",
             "gridcolor": "white",
             "linecolor": "white",
             "minorgridcolor": "white",
             "startlinecolor": "#2a3f5f"
            },
            "baxis": {
             "endlinecolor": "#2a3f5f",
             "gridcolor": "white",
             "linecolor": "white",
             "minorgridcolor": "white",
             "startlinecolor": "#2a3f5f"
            },
            "type": "carpet"
           }
          ],
          "choropleth": [
           {
            "colorbar": {
             "outlinewidth": 0,
             "ticks": ""
            },
            "type": "choropleth"
           }
          ],
          "contour": [
           {
            "colorbar": {
             "outlinewidth": 0,
             "ticks": ""
            },
            "colorscale": [
             [
              0,
              "#0d0887"
             ],
             [
              0.1111111111111111,
              "#46039f"
             ],
             [
              0.2222222222222222,
              "#7201a8"
             ],
             [
              0.3333333333333333,
              "#9c179e"
             ],
             [
              0.4444444444444444,
              "#bd3786"
             ],
             [
              0.5555555555555556,
              "#d8576b"
             ],
             [
              0.6666666666666666,
              "#ed7953"
             ],
             [
              0.7777777777777778,
              "#fb9f3a"
             ],
             [
              0.8888888888888888,
              "#fdca26"
             ],
             [
              1,
              "#f0f921"
             ]
            ],
            "type": "contour"
           }
          ],
          "contourcarpet": [
           {
            "colorbar": {
             "outlinewidth": 0,
             "ticks": ""
            },
            "type": "contourcarpet"
           }
          ],
          "heatmap": [
           {
            "colorbar": {
             "outlinewidth": 0,
             "ticks": ""
            },
            "colorscale": [
             [
              0,
              "#0d0887"
             ],
             [
              0.1111111111111111,
              "#46039f"
             ],
             [
              0.2222222222222222,
              "#7201a8"
             ],
             [
              0.3333333333333333,
              "#9c179e"
             ],
             [
              0.4444444444444444,
              "#bd3786"
             ],
             [
              0.5555555555555556,
              "#d8576b"
             ],
             [
              0.6666666666666666,
              "#ed7953"
             ],
             [
              0.7777777777777778,
              "#fb9f3a"
             ],
             [
              0.8888888888888888,
              "#fdca26"
             ],
             [
              1,
              "#f0f921"
             ]
            ],
            "type": "heatmap"
           }
          ],
          "heatmapgl": [
           {
            "colorbar": {
             "outlinewidth": 0,
             "ticks": ""
            },
            "colorscale": [
             [
              0,
              "#0d0887"
             ],
             [
              0.1111111111111111,
              "#46039f"
             ],
             [
              0.2222222222222222,
              "#7201a8"
             ],
             [
              0.3333333333333333,
              "#9c179e"
             ],
             [
              0.4444444444444444,
              "#bd3786"
             ],
             [
              0.5555555555555556,
              "#d8576b"
             ],
             [
              0.6666666666666666,
              "#ed7953"
             ],
             [
              0.7777777777777778,
              "#fb9f3a"
             ],
             [
              0.8888888888888888,
              "#fdca26"
             ],
             [
              1,
              "#f0f921"
             ]
            ],
            "type": "heatmapgl"
           }
          ],
          "histogram": [
           {
            "marker": {
             "pattern": {
              "fillmode": "overlay",
              "size": 10,
              "solidity": 0.2
             }
            },
            "type": "histogram"
           }
          ],
          "histogram2d": [
           {
            "colorbar": {
             "outlinewidth": 0,
             "ticks": ""
            },
            "colorscale": [
             [
              0,
              "#0d0887"
             ],
             [
              0.1111111111111111,
              "#46039f"
             ],
             [
              0.2222222222222222,
              "#7201a8"
             ],
             [
              0.3333333333333333,
              "#9c179e"
             ],
             [
              0.4444444444444444,
              "#bd3786"
             ],
             [
              0.5555555555555556,
              "#d8576b"
             ],
             [
              0.6666666666666666,
              "#ed7953"
             ],
             [
              0.7777777777777778,
              "#fb9f3a"
             ],
             [
              0.8888888888888888,
              "#fdca26"
             ],
             [
              1,
              "#f0f921"
             ]
            ],
            "type": "histogram2d"
           }
          ],
          "histogram2dcontour": [
           {
            "colorbar": {
             "outlinewidth": 0,
             "ticks": ""
            },
            "colorscale": [
             [
              0,
              "#0d0887"
             ],
             [
              0.1111111111111111,
              "#46039f"
             ],
             [
              0.2222222222222222,
              "#7201a8"
             ],
             [
              0.3333333333333333,
              "#9c179e"
             ],
             [
              0.4444444444444444,
              "#bd3786"
             ],
             [
              0.5555555555555556,
              "#d8576b"
             ],
             [
              0.6666666666666666,
              "#ed7953"
             ],
             [
              0.7777777777777778,
              "#fb9f3a"
             ],
             [
              0.8888888888888888,
              "#fdca26"
             ],
             [
              1,
              "#f0f921"
             ]
            ],
            "type": "histogram2dcontour"
           }
          ],
          "mesh3d": [
           {
            "colorbar": {
             "outlinewidth": 0,
             "ticks": ""
            },
            "type": "mesh3d"
           }
          ],
          "parcoords": [
           {
            "line": {
             "colorbar": {
              "outlinewidth": 0,
              "ticks": ""
             }
            },
            "type": "parcoords"
           }
          ],
          "pie": [
           {
            "automargin": true,
            "type": "pie"
           }
          ],
          "scatter": [
           {
            "fillpattern": {
             "fillmode": "overlay",
             "size": 10,
             "solidity": 0.2
            },
            "type": "scatter"
           }
          ],
          "scatter3d": [
           {
            "line": {
             "colorbar": {
              "outlinewidth": 0,
              "ticks": ""
             }
            },
            "marker": {
             "colorbar": {
              "outlinewidth": 0,
              "ticks": ""
             }
            },
            "type": "scatter3d"
           }
          ],
          "scattercarpet": [
           {
            "marker": {
             "colorbar": {
              "outlinewidth": 0,
              "ticks": ""
             }
            },
            "type": "scattercarpet"
           }
          ],
          "scattergeo": [
           {
            "marker": {
             "colorbar": {
              "outlinewidth": 0,
              "ticks": ""
             }
            },
            "type": "scattergeo"
           }
          ],
          "scattergl": [
           {
            "marker": {
             "colorbar": {
              "outlinewidth": 0,
              "ticks": ""
             }
            },
            "type": "scattergl"
           }
          ],
          "scattermapbox": [
           {
            "marker": {
             "colorbar": {
              "outlinewidth": 0,
              "ticks": ""
             }
            },
            "type": "scattermapbox"
           }
          ],
          "scatterpolar": [
           {
            "marker": {
             "colorbar": {
              "outlinewidth": 0,
              "ticks": ""
             }
            },
            "type": "scatterpolar"
           }
          ],
          "scatterpolargl": [
           {
            "marker": {
             "colorbar": {
              "outlinewidth": 0,
              "ticks": ""
             }
            },
            "type": "scatterpolargl"
           }
          ],
          "scatterternary": [
           {
            "marker": {
             "colorbar": {
              "outlinewidth": 0,
              "ticks": ""
             }
            },
            "type": "scatterternary"
           }
          ],
          "surface": [
           {
            "colorbar": {
             "outlinewidth": 0,
             "ticks": ""
            },
            "colorscale": [
             [
              0,
              "#0d0887"
             ],
             [
              0.1111111111111111,
              "#46039f"
             ],
             [
              0.2222222222222222,
              "#7201a8"
             ],
             [
              0.3333333333333333,
              "#9c179e"
             ],
             [
              0.4444444444444444,
              "#bd3786"
             ],
             [
              0.5555555555555556,
              "#d8576b"
             ],
             [
              0.6666666666666666,
              "#ed7953"
             ],
             [
              0.7777777777777778,
              "#fb9f3a"
             ],
             [
              0.8888888888888888,
              "#fdca26"
             ],
             [
              1,
              "#f0f921"
             ]
            ],
            "type": "surface"
           }
          ],
          "table": [
           {
            "cells": {
             "fill": {
              "color": "#EBF0F8"
             },
             "line": {
              "color": "white"
             }
            },
            "header": {
             "fill": {
              "color": "#C8D4E3"
             },
             "line": {
              "color": "white"
             }
            },
            "type": "table"
           }
          ]
         },
         "layout": {
          "annotationdefaults": {
           "arrowcolor": "#2a3f5f",
           "arrowhead": 0,
           "arrowwidth": 1
          },
          "autotypenumbers": "strict",
          "coloraxis": {
           "colorbar": {
            "outlinewidth": 0,
            "ticks": ""
           }
          },
          "colorscale": {
           "diverging": [
            [
             0,
             "#8e0152"
            ],
            [
             0.1,
             "#c51b7d"
            ],
            [
             0.2,
             "#de77ae"
            ],
            [
             0.3,
             "#f1b6da"
            ],
            [
             0.4,
             "#fde0ef"
            ],
            [
             0.5,
             "#f7f7f7"
            ],
            [
             0.6,
             "#e6f5d0"
            ],
            [
             0.7,
             "#b8e186"
            ],
            [
             0.8,
             "#7fbc41"
            ],
            [
             0.9,
             "#4d9221"
            ],
            [
             1,
             "#276419"
            ]
           ],
           "sequential": [
            [
             0,
             "#0d0887"
            ],
            [
             0.1111111111111111,
             "#46039f"
            ],
            [
             0.2222222222222222,
             "#7201a8"
            ],
            [
             0.3333333333333333,
             "#9c179e"
            ],
            [
             0.4444444444444444,
             "#bd3786"
            ],
            [
             0.5555555555555556,
             "#d8576b"
            ],
            [
             0.6666666666666666,
             "#ed7953"
            ],
            [
             0.7777777777777778,
             "#fb9f3a"
            ],
            [
             0.8888888888888888,
             "#fdca26"
            ],
            [
             1,
             "#f0f921"
            ]
           ],
           "sequentialminus": [
            [
             0,
             "#0d0887"
            ],
            [
             0.1111111111111111,
             "#46039f"
            ],
            [
             0.2222222222222222,
             "#7201a8"
            ],
            [
             0.3333333333333333,
             "#9c179e"
            ],
            [
             0.4444444444444444,
             "#bd3786"
            ],
            [
             0.5555555555555556,
             "#d8576b"
            ],
            [
             0.6666666666666666,
             "#ed7953"
            ],
            [
             0.7777777777777778,
             "#fb9f3a"
            ],
            [
             0.8888888888888888,
             "#fdca26"
            ],
            [
             1,
             "#f0f921"
            ]
           ]
          },
          "colorway": [
           "#636efa",
           "#EF553B",
           "#00cc96",
           "#ab63fa",
           "#FFA15A",
           "#19d3f3",
           "#FF6692",
           "#B6E880",
           "#FF97FF",
           "#FECB52"
          ],
          "font": {
           "color": "#2a3f5f"
          },
          "geo": {
           "bgcolor": "white",
           "lakecolor": "white",
           "landcolor": "#E5ECF6",
           "showlakes": true,
           "showland": true,
           "subunitcolor": "white"
          },
          "hoverlabel": {
           "align": "left"
          },
          "hovermode": "closest",
          "mapbox": {
           "style": "light"
          },
          "paper_bgcolor": "white",
          "plot_bgcolor": "#E5ECF6",
          "polar": {
           "angularaxis": {
            "gridcolor": "white",
            "linecolor": "white",
            "ticks": ""
           },
           "bgcolor": "#E5ECF6",
           "radialaxis": {
            "gridcolor": "white",
            "linecolor": "white",
            "ticks": ""
           }
          },
          "scene": {
           "xaxis": {
            "backgroundcolor": "#E5ECF6",
            "gridcolor": "white",
            "gridwidth": 2,
            "linecolor": "white",
            "showbackground": true,
            "ticks": "",
            "zerolinecolor": "white"
           },
           "yaxis": {
            "backgroundcolor": "#E5ECF6",
            "gridcolor": "white",
            "gridwidth": 2,
            "linecolor": "white",
            "showbackground": true,
            "ticks": "",
            "zerolinecolor": "white"
           },
           "zaxis": {
            "backgroundcolor": "#E5ECF6",
            "gridcolor": "white",
            "gridwidth": 2,
            "linecolor": "white",
            "showbackground": true,
            "ticks": "",
            "zerolinecolor": "white"
           }
          },
          "shapedefaults": {
           "line": {
            "color": "#2a3f5f"
           }
          },
          "ternary": {
           "aaxis": {
            "gridcolor": "white",
            "linecolor": "white",
            "ticks": ""
           },
           "baxis": {
            "gridcolor": "white",
            "linecolor": "white",
            "ticks": ""
           },
           "bgcolor": "#E5ECF6",
           "caxis": {
            "gridcolor": "white",
            "linecolor": "white",
            "ticks": ""
           }
          },
          "title": {
           "x": 0.05
          },
          "xaxis": {
           "automargin": true,
           "gridcolor": "white",
           "linecolor": "white",
           "ticks": "",
           "title": {
            "standoff": 15
           },
           "zerolinecolor": "white",
           "zerolinewidth": 2
          },
          "yaxis": {
           "automargin": true,
           "gridcolor": "white",
           "linecolor": "white",
           "ticks": "",
           "title": {
            "standoff": 15
           },
           "zerolinecolor": "white",
           "zerolinewidth": 2
          }
         }
        }
       }
      },
      "text/html": [
       "<div>                            <div id=\"37b2e4d7-c88b-49ea-a537-5956ba0f7061\" class=\"plotly-graph-div\" style=\"height:525px; width:100%;\"></div>            <script type=\"text/javascript\">                require([\"plotly\"], function(Plotly) {                    window.PLOTLYENV=window.PLOTLYENV || {};                                    if (document.getElementById(\"37b2e4d7-c88b-49ea-a537-5956ba0f7061\")) {                    Plotly.newPlot(                        \"37b2e4d7-c88b-49ea-a537-5956ba0f7061\",                        [{\"lat\":[60.38026271377996,60.39375532002469],\"lon\":[5.323223146883635,5.3217920958013565],\"mode\":\"lines\",\"type\":\"scattermapbox\"},{\"hovertemplate\":\"Trips from Damsg\\u00e5rdsveien 71 to T\\u00e5rnplass: 14\",\"lat\":[60.387009016902326],\"lon\":[5.3225076213424956],\"marker\":{\"size\":0},\"mode\":\"markers\",\"type\":\"scattermapbox\"},{\"lat\":[60.38026271377996,60.39514386434325],\"lon\":[5.323223146883635,5.320002322335455],\"mode\":\"lines\",\"type\":\"scattermapbox\"},{\"hovertemplate\":\"Trips from Damsg\\u00e5rdsveien 71 to \\u00d8stre Murallmenningen nedre: 5\",\"lat\":[60.387703289061605],\"lon\":[5.321612734609545],\"marker\":{\"size\":0},\"mode\":\"markers\",\"type\":\"scattermapbox\"},{\"lat\":[60.38026271377996,60.38668149584837],\"lon\":[5.323223146883635,5.3309780770646],\"mode\":\"lines\",\"type\":\"scattermapbox\"},{\"hovertemplate\":\"Trips from Damsg\\u00e5rdsveien 71 to St. Jakobs Plass: 49\",\"lat\":[60.38347210481417],\"lon\":[5.327100611974117],\"marker\":{\"size\":0},\"mode\":\"markers\",\"type\":\"scattermapbox\"},{\"lat\":[60.38026271377996,60.39454985253085],\"lon\":[5.323223146883635,5.327049981572372],\"mode\":\"lines\",\"type\":\"scattermapbox\"},{\"hovertemplate\":\"Trips from Damsg\\u00e5rdsveien 71 to Nedre Korskirkeallmenning: 30\",\"lat\":[60.38740628315541],\"lon\":[5.3251365642280035],\"marker\":{\"size\":0},\"mode\":\"markers\",\"type\":\"scattermapbox\"},{\"lat\":[60.38026271377996,60.37514055132067],\"lon\":[5.323223146883635,5.338517421420761],\"mode\":\"lines\",\"type\":\"scattermapbox\"},{\"hovertemplate\":\"Trips from Damsg\\u00e5rdsveien 71 to Solheimsgaten (ved Extra): 55\",\"lat\":[60.37770163255031],\"lon\":[5.330870284152198],\"marker\":{\"size\":0},\"mode\":\"markers\",\"type\":\"scattermapbox\"},{\"lat\":[60.38026271377996,60.38904687509401],\"lon\":[5.323223146883635,5.321882967938819],\"mode\":\"lines\",\"type\":\"scattermapbox\"},{\"hovertemplate\":\"Trips from Damsg\\u00e5rdsveien 71 to Rosenbergsgaten: 8\",\"lat\":[60.38465479443698],\"lon\":[5.322553057411227],\"marker\":{\"size\":0},\"mode\":\"markers\",\"type\":\"scattermapbox\"},{\"lat\":[60.38026271377996,60.37178687508714],\"lon\":[5.323223146883635,5.349552885719248],\"mode\":\"lines\",\"type\":\"scattermapbox\"},{\"hovertemplate\":\"Trips from Damsg\\u00e5rdsveien 71 to Kronstad bybanestopp: 17\",\"lat\":[60.37602479443355],\"lon\":[5.336388016301441],\"marker\":{\"size\":0},\"mode\":\"markers\",\"type\":\"scattermapbox\"},{\"lat\":[60.38026271377996,60.391123958982405],\"lon\":[5.323223146883635,5.325713785893413],\"mode\":\"lines\",\"type\":\"scattermapbox\"},{\"hovertemplate\":\"Trips from Damsg\\u00e5rdsveien 71 to Festplassen: 27\",\"lat\":[60.38569333638118],\"lon\":[5.324468466388524],\"marker\":{\"size\":0},\"mode\":\"markers\",\"type\":\"scattermapbox\"},{\"lat\":[60.38026271377996,60.38445114789948],\"lon\":[5.323223146883635,5.324440726278226],\"mode\":\"lines\",\"type\":\"scattermapbox\"},{\"hovertemplate\":\"Trips from Damsg\\u00e5rdsveien 71 to Welhavens gate 64: 11\",\"lat\":[60.38235693083972],\"lon\":[5.32383193658093],\"marker\":{\"size\":0},\"mode\":\"markers\",\"type\":\"scattermapbox\"},{\"lat\":[60.38026271377996,60.38604412210008],\"lon\":[5.323223146883635,5.349253890141261],\"mode\":\"lines\",\"type\":\"scattermapbox\"},{\"hovertemplate\":\"Trips from Damsg\\u00e5rdsveien 71 to Hansaparken: 11\",\"lat\":[60.38315341794002],\"lon\":[5.336238518512448],\"marker\":{\"size\":0},\"mode\":\"markers\",\"type\":\"scattermapbox\"},{\"lat\":[60.38026271377996,60.390414110522414],\"lon\":[5.323223146883635,5.332650453823391],\"mode\":\"lines\",\"type\":\"scattermapbox\"},{\"hovertemplate\":\"Trips from Damsg\\u00e5rdsveien 71 to Bergen jernbanestasjon: 21\",\"lat\":[60.385338412151185],\"lon\":[5.327936800353513],\"marker\":{\"size\":0},\"mode\":\"markers\",\"type\":\"scattermapbox\"},{\"lat\":[60.38026271377996,60.38967202352878],\"lon\":[5.323223146883635,5.3336050852019525],\"mode\":\"lines\",\"type\":\"scattermapbox\"},{\"hovertemplate\":\"Trips from Damsg\\u00e5rdsveien 71 to Nonneseterplass: 56\",\"lat\":[60.38496736865437],\"lon\":[5.328414116042794],\"marker\":{\"size\":0},\"mode\":\"markers\",\"type\":\"scattermapbox\"},{\"lat\":[60.38026271377996,60.395137943082446],\"lon\":[5.323223146883635,5.314946630388022],\"mode\":\"lines\",\"type\":\"scattermapbox\"},{\"hovertemplate\":\"Trips from Damsg\\u00e5rdsveien 71 to Klosteret: 5\",\"lat\":[60.38770032843121],\"lon\":[5.319084888635828],\"marker\":{\"size\":0},\"mode\":\"markers\",\"type\":\"scattermapbox\"},{\"lat\":[60.38026271377996,60.39865649373253],\"lon\":[5.323223146883635,5.3221425864564935],\"mode\":\"lines\",\"type\":\"scattermapbox\"},{\"hovertemplate\":\"Trips from Damsg\\u00e5rdsveien 71 to Dreggsallmenningen Nord: 1\",\"lat\":[60.38945960375625],\"lon\":[5.322682866670064],\"marker\":{\"size\":0},\"mode\":\"markers\",\"type\":\"scattermapbox\"},{\"lat\":[60.38026271377996,60.382254745562825],\"lon\":[5.323223146883635,5.3323324699108525],\"mode\":\"lines\",\"type\":\"scattermapbox\"},{\"hovertemplate\":\"Trips from Damsg\\u00e5rdsveien 71 to Florida Bybanestopp: 77\",\"lat\":[60.381258729671394],\"lon\":[5.327777808397244],\"marker\":{\"size\":0},\"mode\":\"markers\",\"type\":\"scattermapbox\"},{\"lat\":[60.38026271377996,60.38316244112318],\"lon\":[5.323223146883635,5.324053067317891],\"mode\":\"lines\",\"type\":\"scattermapbox\"},{\"hovertemplate\":\"Trips from Damsg\\u00e5rdsveien 71 to Thorm\\u00f8hlens gate: 50\",\"lat\":[60.38171257745157],\"lon\":[5.323638107100763],\"marker\":{\"size\":0},\"mode\":\"markers\",\"type\":\"scattermapbox\"},{\"lat\":[60.38026271377996,60.39291769029913],\"lon\":[5.323223146883635,5.323669092809325],\"mode\":\"lines\",\"type\":\"scattermapbox\"},{\"hovertemplate\":\"Trips from Damsg\\u00e5rdsveien 71 to Torgallmenningen: 25\",\"lat\":[60.38659020203954],\"lon\":[5.32344611984648],\"marker\":{\"size\":0},\"mode\":\"markers\",\"type\":\"scattermapbox\"},{\"lat\":[60.38026271377996,60.39886453454994],\"lon\":[5.323223146883635,5.306410871328268],\"mode\":\"lines\",\"type\":\"scattermapbox\"},{\"hovertemplate\":\"Trips from Damsg\\u00e5rdsveien 71 to Takhagen p\\u00e5 Nordnes: 0\",\"lat\":[60.38956362416495],\"lon\":[5.314817009105951],\"marker\":{\"size\":0},\"mode\":\"markers\",\"type\":\"scattermapbox\"},{\"lat\":[60.38026271377996,60.39097915423838],\"lon\":[5.323223146883635,5.320656172070585],\"mode\":\"lines\",\"type\":\"scattermapbox\"},{\"hovertemplate\":\"Trips from Damsg\\u00e5rdsveien 71 to Neumanns gate II: 9\",\"lat\":[60.38562093400917],\"lon\":[5.32193965947711],\"marker\":{\"size\":0},\"mode\":\"markers\",\"type\":\"scattermapbox\"},{\"lat\":[60.38026271377996,60.379894791874165],\"lon\":[5.323223146883635,5.35207758319504],\"mode\":\"lines\",\"type\":\"scattermapbox\"},{\"hovertemplate\":\"Trips from Damsg\\u00e5rdsveien 71 to M\\u00f8llendalsplass: 46\",\"lat\":[60.38007875282706],\"lon\":[5.337650365039337],\"marker\":{\"size\":0},\"mode\":\"markers\",\"type\":\"scattermapbox\"},{\"lat\":[60.38026271377996,60.396949224333255],\"lon\":[5.323223146883635,5.313494727727743],\"mode\":\"lines\",\"type\":\"scattermapbox\"},{\"hovertemplate\":\"Trips from Damsg\\u00e5rdsveien 71 to Nykirken: 33\",\"lat\":[60.38860596905661],\"lon\":[5.318358937305689],\"marker\":{\"size\":0},\"mode\":\"markers\",\"type\":\"scattermapbox\"},{\"lat\":[60.38026271377996,60.39397677863768],\"lon\":[5.323223146883635,5.318713236118583],\"mode\":\"lines\",\"type\":\"scattermapbox\"},{\"hovertemplate\":\"Trips from Damsg\\u00e5rdsveien 71 to \\u00d8stre Murallmenningen \\u00f8vre: 1\",\"lat\":[60.387119746208825],\"lon\":[5.320968191501109],\"marker\":{\"size\":0},\"mode\":\"markers\",\"type\":\"scattermapbox\"},{\"lat\":[60.38026271377996,60.38151150199543],\"lon\":[5.323223146883635,5.319435364152128],\"mode\":\"lines\",\"type\":\"scattermapbox\"},{\"hovertemplate\":\"Trips from Damsg\\u00e5rdsveien 71 to Damsg\\u00e5rdsveien: 22\",\"lat\":[60.3808871078877],\"lon\":[5.321329255517881],\"marker\":{\"size\":0},\"mode\":\"markers\",\"type\":\"scattermapbox\"},{\"lat\":[60.38026271377996,60.395877002094046],\"lon\":[5.323223146883635,5.307755827707297],\"mode\":\"lines\",\"type\":\"scattermapbox\"},{\"hovertemplate\":\"Trips from Damsg\\u00e5rdsveien 71 to Verftet: 17\",\"lat\":[60.388069857937005],\"lon\":[5.315489487295466],\"marker\":{\"size\":0},\"mode\":\"markers\",\"type\":\"scattermapbox\"},{\"lat\":[60.38026271377996,60.39705738914522],\"lon\":[5.323223146883635,5.314548482139799],\"mode\":\"lines\",\"type\":\"scattermapbox\"},{\"hovertemplate\":\"Trips from Damsg\\u00e5rdsveien 71 to Nykirkekaien: 1\",\"lat\":[60.388660051462594],\"lon\":[5.318885814511717],\"marker\":{\"size\":0},\"mode\":\"markers\",\"type\":\"scattermapbox\"},{\"lat\":[60.38026271377996,60.367425453190464],\"lon\":[5.323223146883635,5.3551910634374735],\"mode\":\"lines\",\"type\":\"scattermapbox\"},{\"hovertemplate\":\"Trips from Damsg\\u00e5rdsveien 71 to Brann Stadion: 6\",\"lat\":[60.37384408348521],\"lon\":[5.339207105160554],\"marker\":{\"size\":0},\"mode\":\"markers\",\"type\":\"scattermapbox\"},{\"lat\":[60.38026271377996,60.38719801795013],\"lon\":[5.323223146883635,5.322980046239536],\"mode\":\"lines\",\"type\":\"scattermapbox\"},{\"hovertemplate\":\"Trips from Damsg\\u00e5rdsveien 71 to Studentsenteret UiB: 1\",\"lat\":[60.38373036586505],\"lon\":[5.323101596561585],\"marker\":{\"size\":0},\"mode\":\"markers\",\"type\":\"scattermapbox\"},{\"lat\":[60.38026271377996,60.39622446162616],\"lon\":[5.323223146883635,5.315384703788823],\"mode\":\"lines\",\"type\":\"scattermapbox\"},{\"hovertemplate\":\"Trips from Damsg\\u00e5rdsveien 71 to Comfort Hotel Bergen: 4\",\"lat\":[60.38824358770306],\"lon\":[5.319303925336229],\"marker\":{\"size\":0},\"mode\":\"markers\",\"type\":\"scattermapbox\"},{\"lat\":[60.38026271377996,60.41294568274233],\"lon\":[5.323223146883635,5.320870309021842],\"mode\":\"lines\",\"type\":\"scattermapbox\"},{\"hovertemplate\":\"Trips from Damsg\\u00e5rdsveien 71 to Sandviken Brygge: 4\",\"lat\":[60.396604198261144],\"lon\":[5.322046727952738],\"marker\":{\"size\":0},\"mode\":\"markers\",\"type\":\"scattermapbox\"},{\"lat\":[60.38026271377996,60.39987652272946],\"lon\":[5.323223146883635,5.304686307890734],\"mode\":\"lines\",\"type\":\"scattermapbox\"},{\"hovertemplate\":\"Trips from Damsg\\u00e5rdsveien 71 to Akvariet: 0\",\"lat\":[60.390069618254714],\"lon\":[5.313954727387184],\"marker\":{\"size\":0},\"mode\":\"markers\",\"type\":\"scattermapbox\"},{\"lat\":[60.38026271377996,60.393323250707],\"lon\":[5.323223146883635,5.330654155344547],\"mode\":\"lines\",\"type\":\"scattermapbox\"},{\"hovertemplate\":\"Trips from Damsg\\u00e5rdsveien 71 to Kong Oscars gate: 3\",\"lat\":[60.38679298224348],\"lon\":[5.326938651114091],\"marker\":{\"size\":0},\"mode\":\"markers\",\"type\":\"scattermapbox\"},{\"lat\":[60.38026271377996,60.3867091497868],\"lon\":[5.323223146883635,5.299130112557805],\"mode\":\"lines\",\"type\":\"scattermapbox\"},{\"hovertemplate\":\"Trips from Damsg\\u00e5rdsveien 71 to Damsg\\u00e5rdsallmenningen: 71\",\"lat\":[60.38348593178338],\"lon\":[5.31117662972072],\"marker\":{\"size\":0},\"mode\":\"markers\",\"type\":\"scattermapbox\"},{\"lat\":[60.38026271377996,60.386068777690944],\"lon\":[5.323223146883635,5.3001083072740585],\"mode\":\"lines\",\"type\":\"scattermapbox\"},{\"hovertemplate\":\"Trips from Damsg\\u00e5rdsveien 71 to Laksev\\u00e5g v\\u002fKirkebukten: 39\",\"lat\":[60.383165745735454],\"lon\":[5.3116657270788465],\"marker\":{\"size\":0},\"mode\":\"markers\",\"type\":\"scattermapbox\"},{\"lat\":[60.38026271377996,60.37802198798124],\"lon\":[5.323223146883635,5.329383048102329],\"mode\":\"lines\",\"type\":\"scattermapbox\"},{\"hovertemplate\":\"Trips from Damsg\\u00e5rdsveien 71 to Damsg\\u00e5rdsveien 2: 17\",\"lat\":[60.3791423508806],\"lon\":[5.326303097492982],\"marker\":{\"size\":0},\"mode\":\"markers\",\"type\":\"scattermapbox\"},{\"lat\":[60.38026271377996,60.39587808663882],\"lon\":[5.323223146883635,5.325283812313046],\"mode\":\"lines\",\"type\":\"scattermapbox\"},{\"hovertemplate\":\"Trips from Damsg\\u00e5rdsveien 71 to Torget: 4\",\"lat\":[60.388070400209386],\"lon\":[5.32425347959834],\"marker\":{\"size\":0},\"mode\":\"markers\",\"type\":\"scattermapbox\"},{\"lat\":[60.38026271377996,60.39118461048114],\"lon\":[5.323223146883635,5.318026298282803],\"mode\":\"lines\",\"type\":\"scattermapbox\"},{\"hovertemplate\":\"Trips from Damsg\\u00e5rdsveien 71 to H\\u00e5konsgaten: 7\",\"lat\":[60.38572366213055],\"lon\":[5.320624722583219],\"marker\":{\"size\":0},\"mode\":\"markers\",\"type\":\"scattermapbox\"},{\"lat\":[60.38026271377996,60.37708169275558],\"lon\":[5.323223146883635,5.335575458852787],\"mode\":\"lines\",\"type\":\"scattermapbox\"},{\"hovertemplate\":\"Trips from Damsg\\u00e5rdsveien 71 to Solheimsviken: 17\",\"lat\":[60.37867220326777],\"lon\":[5.329399302868211],\"marker\":{\"size\":0},\"mode\":\"markers\",\"type\":\"scattermapbox\"},{\"lat\":[60.38026271377996,60.38591618700343],\"lon\":[5.323223146883635,5.319206933440256],\"mode\":\"lines\",\"type\":\"scattermapbox\"},{\"hovertemplate\":\"Trips from Damsg\\u00e5rdsveien 71 to Puddefjordsbroen: 21\",\"lat\":[60.383089450391694],\"lon\":[5.321215040161945],\"marker\":{\"size\":0},\"mode\":\"markers\",\"type\":\"scattermapbox\"},{\"lat\":[60.38026271377996,60.37878279018753],\"lon\":[5.323223146883635,5.3333274872102265],\"mode\":\"lines\",\"type\":\"scattermapbox\"},{\"hovertemplate\":\"Trips from Damsg\\u00e5rdsveien 71 to Moxy Hotellet: 38\",\"lat\":[60.37952275198374],\"lon\":[5.328275317046931],\"marker\":{\"size\":0},\"mode\":\"markers\",\"type\":\"scattermapbox\"},{\"lat\":[60.38026271377996,60.369179844976586],\"lon\":[5.323223146883635,5.349443793165847],\"mode\":\"lines\",\"type\":\"scattermapbox\"},{\"hovertemplate\":\"Trips from Damsg\\u00e5rdsveien 71 to H\\u00f8gskulen p\\u00e5 Vestlandet: 10\",\"lat\":[60.37472127937828],\"lon\":[5.336333470024741],\"marker\":{\"size\":0},\"mode\":\"markers\",\"type\":\"scattermapbox\"},{\"lat\":[60.38026271377996,60.408582102784685],\"lon\":[5.323223146883635,5.322648583141813],\"mode\":\"lines\",\"type\":\"scattermapbox\"},{\"hovertemplate\":\"Trips from Damsg\\u00e5rdsveien 71 to Sandvikstorget: 1\",\"lat\":[60.394422408282324],\"lon\":[5.322935865012724],\"marker\":{\"size\":0},\"mode\":\"markers\",\"type\":\"scattermapbox\"},{\"lat\":[60.38026271377996,60.37810721367397],\"lon\":[5.323223146883635,5.331020769519228],\"mode\":\"lines\",\"type\":\"scattermapbox\"},{\"hovertemplate\":\"Trips from Damsg\\u00e5rdsveien 71 to Krohnviken: 32\",\"lat\":[60.37918496372697],\"lon\":[5.327121958201431],\"marker\":{\"size\":0},\"mode\":\"markers\",\"type\":\"scattermapbox\"},{\"lat\":[60.38026271377996,60.39267683527631],\"lon\":[5.323223146883635,5.317308285189142],\"mode\":\"lines\",\"type\":\"scattermapbox\"},{\"hovertemplate\":\"Trips from Damsg\\u00e5rdsveien 71 to Jonsvollkvartalet: 48\",\"lat\":[60.38646977452814],\"lon\":[5.320265716036388],\"marker\":{\"size\":0},\"mode\":\"markers\",\"type\":\"scattermapbox\"},{\"lat\":[60.38026271377996,60.385922875207626],\"lon\":[5.323223146883635,5.321431717819451],\"mode\":\"lines\",\"type\":\"scattermapbox\"},{\"hovertemplate\":\"Trips from Damsg\\u00e5rdsveien 71 to Ole Vigs gate: 36\",\"lat\":[60.38309279449379],\"lon\":[5.322327432351543],\"marker\":{\"size\":0},\"mode\":\"markers\",\"type\":\"scattermapbox\"},{\"lat\":[60.38026271377996,60.37049377702599],\"lon\":[5.323223146883635,5.353846489647282],\"mode\":\"lines\",\"type\":\"scattermapbox\"},{\"hovertemplate\":\"Trips from Damsg\\u00e5rdsveien 71 to Haukelandshallen: 0\",\"lat\":[60.37537824540298],\"lon\":[5.338534818265458],\"marker\":{\"size\":0},\"mode\":\"markers\",\"type\":\"scattermapbox\"},{\"lat\":[60.38026271377996,60.38972226200196],\"lon\":[5.323223146883635,5.314854189834826],\"mode\":\"lines\",\"type\":\"scattermapbox\"},{\"hovertemplate\":\"Trips from Damsg\\u00e5rdsveien 71 to Magnus Lagab\\u00f8tes Plass: 1\",\"lat\":[60.38499248789096],\"lon\":[5.31903866835923],\"marker\":{\"size\":0},\"mode\":\"markers\",\"type\":\"scattermapbox\"},{\"lat\":[60.38026271377996,60.39770902893835],\"lon\":[5.323223146883635,5.32200057798218],\"mode\":\"lines\",\"type\":\"scattermapbox\"},{\"hovertemplate\":\"Trips from Damsg\\u00e5rdsveien 71 to Dreggsallmenningen S\\u00f8r: 6\",\"lat\":[60.388985871359154],\"lon\":[5.3226118624329075],\"marker\":{\"size\":0},\"mode\":\"markers\",\"type\":\"scattermapbox\"},{\"lat\":[60.38026271377996,60.408096993005785],\"lon\":[5.323223146883635,5.325510899047174],\"mode\":\"lines\",\"type\":\"scattermapbox\"},{\"hovertemplate\":\"Trips from Damsg\\u00e5rdsveien 71 to Amalie Skrams vei S\\u00f8r: 0\",\"lat\":[60.39417985339287],\"lon\":[5.324367022965404],\"marker\":{\"size\":0},\"mode\":\"markers\",\"type\":\"scattermapbox\"},{\"lat\":[60.38026271377996,60.38658166593217],\"lon\":[5.323223146883635,5.327978744635743],\"mode\":\"lines\",\"type\":\"scattermapbox\"},{\"hovertemplate\":\"Trips from Damsg\\u00e5rdsveien 71 to Fosswinckels gate: 2\",\"lat\":[60.38342218985606],\"lon\":[5.325600945759689],\"marker\":{\"size\":0},\"mode\":\"markers\",\"type\":\"scattermapbox\"},{\"lat\":[60.38026271377996,60.373985939857135],\"lon\":[5.323223146883635,5.342082137178068],\"mode\":\"lines\",\"type\":\"scattermapbox\"},{\"hovertemplate\":\"Trips from Damsg\\u00e5rdsveien 71 to Bj\\u00f8rnsonsgate: 5\",\"lat\":[60.377124326818546],\"lon\":[5.332652642030851],\"marker\":{\"size\":0},\"mode\":\"markers\",\"type\":\"scattermapbox\"},{\"lat\":[60.38026271377996,60.38890977889046],\"lon\":[5.323223146883635,5.333817119783134],\"mode\":\"lines\",\"type\":\"scattermapbox\"},{\"hovertemplate\":\"Trips from Damsg\\u00e5rdsveien 71 to Busstasjonen 1 Nord: 42\",\"lat\":[60.38458624633521],\"lon\":[5.3285201333333845],\"marker\":{\"size\":0},\"mode\":\"markers\",\"type\":\"scattermapbox\"},{\"lat\":[60.38026271377996,60.38246949877819],\"lon\":[5.323223146883635,5.32609348920866],\"mode\":\"lines\",\"type\":\"scattermapbox\"},{\"hovertemplate\":\"Trips from Damsg\\u00e5rdsveien 71 to Cornerteateret: 36\",\"lat\":[60.381366106279074],\"lon\":[5.324658318046147],\"marker\":{\"size\":0},\"mode\":\"markers\",\"type\":\"scattermapbox\"},{\"lat\":[60.38026271377996,60.38828383354144],\"lon\":[5.323223146883635,5.332872680372475],\"mode\":\"lines\",\"type\":\"scattermapbox\"},{\"hovertemplate\":\"Trips from Damsg\\u00e5rdsveien 71 to Busstasjonen 2 Vest: 3\",\"lat\":[60.3842732736607],\"lon\":[5.328047913628055],\"marker\":{\"size\":0},\"mode\":\"markers\",\"type\":\"scattermapbox\"},{\"lat\":[60.38026271377996,60.376082994809856],\"lon\":[5.323223146883635,5.339851409058042],\"mode\":\"lines\",\"type\":\"scattermapbox\"},{\"hovertemplate\":\"Trips from Damsg\\u00e5rdsveien 71 to Danmarksplass: 34\",\"lat\":[60.37817285429491],\"lon\":[5.331537277970838],\"marker\":{\"size\":0},\"mode\":\"markers\",\"type\":\"scattermapbox\"},{\"lat\":[60.38026271377996,60.37831673774707],\"lon\":[5.323223146883635,5.350897458652753],\"mode\":\"lines\",\"type\":\"scattermapbox\"},{\"hovertemplate\":\"Trips from Damsg\\u00e5rdsveien 71 to Studentboligene: 9\",\"lat\":[60.37928972576351],\"lon\":[5.337060302768194],\"marker\":{\"size\":0},\"mode\":\"markers\",\"type\":\"scattermapbox\"},{\"lat\":[60.38026271377996,60.395070112977045],\"lon\":[5.323223146883635,5.31879835082907],\"mode\":\"lines\",\"type\":\"scattermapbox\"},{\"hovertemplate\":\"Trips from Damsg\\u00e5rdsveien 71 to G\\u00e5gaten: 0\",\"lat\":[60.387666413378504],\"lon\":[5.321010748856352],\"marker\":{\"size\":0},\"mode\":\"markers\",\"type\":\"scattermapbox\"},{\"lat\":[60.38026271377996,60.3906427466302],\"lon\":[5.323223146883635,5.324397430398562],\"mode\":\"lines\",\"type\":\"scattermapbox\"},{\"hovertemplate\":\"Trips from Damsg\\u00e5rdsveien 71 to Permanenten: 4\",\"lat\":[60.38545273020508],\"lon\":[5.3238102886410985],\"marker\":{\"size\":0},\"mode\":\"markers\",\"type\":\"scattermapbox\"},{\"lat\":[60.38026271377996,60.387853713374845],\"lon\":[5.323223146883635,5.318712852428234],\"mode\":\"lines\",\"type\":\"scattermapbox\"},{\"hovertemplate\":\"Trips from Damsg\\u00e5rdsveien 71 to HF-Bygget: 0\",\"lat\":[60.384058213577404],\"lon\":[5.3209679996559345],\"marker\":{\"size\":0},\"mode\":\"markers\",\"type\":\"scattermapbox\"},{\"lat\":[60.38026271377996,60.390174061139966],\"lon\":[5.323223146883635,5.324792207669702],\"mode\":\"lines\",\"type\":\"scattermapbox\"},{\"hovertemplate\":\"Trips from Damsg\\u00e5rdsveien 71 to Stenersen: 40\",\"lat\":[60.385218387459965],\"lon\":[5.3240076772766685],\"marker\":{\"size\":0},\"mode\":\"markers\",\"type\":\"scattermapbox\"},{\"lat\":[60.38026271377996,60.390108717939874],\"lon\":[5.323223146883635,5.3353874337574325],\"mode\":\"lines\",\"type\":\"scattermapbox\"},{\"hovertemplate\":\"Trips from Damsg\\u00e5rdsveien 71 to Zander Kaaes gate: 2\",\"lat\":[60.38518571585992],\"lon\":[5.329305290320534],\"marker\":{\"size\":0},\"mode\":\"markers\",\"type\":\"scattermapbox\"},{\"lat\":[60.38026271377996,60.39947506336557],\"lon\":[5.323223146883635,5.308762204430565],\"mode\":\"lines\",\"type\":\"scattermapbox\"},{\"hovertemplate\":\"Trips from Damsg\\u00e5rdsveien 71 to C. Sundts gate: 0\",\"lat\":[60.389868888572764],\"lon\":[5.3159926756571],\"marker\":{\"size\":0},\"mode\":\"markers\",\"type\":\"scattermapbox\"},{\"lat\":[60.38026271377996,60.40222876911276],\"lon\":[5.323223146883635,5.320744723528605],\"mode\":\"lines\",\"type\":\"scattermapbox\"},{\"hovertemplate\":\"Trips from Damsg\\u00e5rdsveien 71 to Skutevikstorget: 3\",\"lat\":[60.39124574144636],\"lon\":[5.32198393520612],\"marker\":{\"size\":0},\"mode\":\"markers\",\"type\":\"scattermapbox\"},{\"lat\":[60.38026271377996,60.38705878935416],\"lon\":[5.323223146883635,5.335633911730724],\"mode\":\"lines\",\"type\":\"scattermapbox\"},{\"hovertemplate\":\"Trips from Damsg\\u00e5rdsveien 71 to Busstasjonen 4 S\\u00f8r: 4\",\"lat\":[60.383660751567064],\"lon\":[5.3294285293071795],\"marker\":{\"size\":0},\"mode\":\"markers\",\"type\":\"scattermapbox\"},{\"lat\":[60.38026271377996,60.39148438859138],\"lon\":[5.323223146883635,5.328519197920741],\"mode\":\"lines\",\"type\":\"scattermapbox\"},{\"hovertemplate\":\"Trips from Damsg\\u00e5rdsveien 71 to R\\u00e5dhuset: 2\",\"lat\":[60.38587355118567],\"lon\":[5.325871172402188],\"marker\":{\"size\":0},\"mode\":\"markers\",\"type\":\"scattermapbox\"},{\"lat\":[60.38026271377996,60.39638423113168],\"lon\":[5.323223146883635,5.324169337618514],\"mode\":\"lines\",\"type\":\"scattermapbox\"},{\"hovertemplate\":\"Trips from Damsg\\u00e5rdsveien 71 to Skur 11: 5\",\"lat\":[60.38832347245582],\"lon\":[5.323696242251074],\"marker\":{\"size\":0},\"mode\":\"markers\",\"type\":\"scattermapbox\"},{\"lat\":[60.38026271377996,60.38103776618004],\"lon\":[5.323223146883635,5.35905189499951],\"mode\":\"lines\",\"type\":\"scattermapbox\"},{\"hovertemplate\":\"Trips from Damsg\\u00e5rdsveien 71 to Odontologen: 1\",\"lat\":[60.38065023998],\"lon\":[5.341137520941572],\"marker\":{\"size\":0},\"mode\":\"markers\",\"type\":\"scattermapbox\"},{\"lat\":[60.38026271377996,60.37911124360612],\"lon\":[5.323223146883635,5.361202283994771],\"mode\":\"lines\",\"type\":\"scattermapbox\"},{\"hovertemplate\":\"Trips from Damsg\\u00e5rdsveien 71 to Haraldsplass: 1\",\"lat\":[60.379686978693044],\"lon\":[5.342212715439203],\"marker\":{\"size\":0},\"mode\":\"markers\",\"type\":\"scattermapbox\"},{\"lat\":[60.38026271377996,60.39138580667719],\"lon\":[5.323223146883635,5.319194867192266],\"mode\":\"lines\",\"type\":\"scattermapbox\"},{\"hovertemplate\":\"Trips from Damsg\\u00e5rdsveien 71 to Neumanns gate: 13\",\"lat\":[60.385824260228574],\"lon\":[5.32120900703795],\"marker\":{\"size\":0},\"mode\":\"markers\",\"type\":\"scattermapbox\"},{\"lat\":[60.38026271377996,60.3921816648884],\"lon\":[5.323223146883635,5.315016280520865],\"mode\":\"lines\",\"type\":\"scattermapbox\"},{\"hovertemplate\":\"Trips from Damsg\\u00e5rdsveien 71 to N\\u00f8stetorget: 74\",\"lat\":[60.38622218933418],\"lon\":[5.31911971370225],\"marker\":{\"size\":0},\"mode\":\"markers\",\"type\":\"scattermapbox\"},{\"lat\":[60.38026271377996,60.384467341026586],\"lon\":[5.323223146883635,5.310007717995973],\"mode\":\"lines\",\"type\":\"scattermapbox\"},{\"hovertemplate\":\"Trips from Damsg\\u00e5rdsveien 71 to Frydenb\\u00f8 Marina: 154\",\"lat\":[60.382365027403274],\"lon\":[5.316615432439804],\"marker\":{\"size\":0},\"mode\":\"markers\",\"type\":\"scattermapbox\"},{\"lat\":[60.38026271377996,60.38543124330305],\"lon\":[5.323223146883635,5.337431780062616],\"mode\":\"lines\",\"type\":\"scattermapbox\"},{\"hovertemplate\":\"Trips from Damsg\\u00e5rdsveien 71 to AdO arena: 67\",\"lat\":[60.38284697854151],\"lon\":[5.330327463473125],\"marker\":{\"size\":0},\"mode\":\"markers\",\"type\":\"scattermapbox\"},{\"lat\":[60.38026271377996,60.39066508674793],\"lon\":[5.323223146883635,5.333027169585989],\"mode\":\"lines\",\"type\":\"scattermapbox\"},{\"hovertemplate\":\"Trips from Damsg\\u00e5rdsveien 71 to Bergen Jernbanestasjon II: 12\",\"lat\":[60.38546390026394],\"lon\":[5.328125158234812],\"marker\":{\"size\":0},\"mode\":\"markers\",\"type\":\"scattermapbox\"},{\"lat\":[60.38026271377996,60.391983600413376],\"lon\":[5.323223146883635,5.32661819461282],\"mode\":\"lines\",\"type\":\"scattermapbox\"},{\"hovertemplate\":\"Trips from Damsg\\u00e5rdsveien 71 to Gulating: 5\",\"lat\":[60.38612315709667],\"lon\":[5.324920670748227],\"marker\":{\"size\":0},\"mode\":\"markers\",\"type\":\"scattermapbox\"},{\"lat\":[60.38026271377996,60.3839343833222],\"lon\":[5.323223146883635,5.333450454511649],\"mode\":\"lines\",\"type\":\"scattermapbox\"},{\"hovertemplate\":\"Trips from Damsg\\u00e5rdsveien 71 to Nyg\\u00e5rdsporten: 127\",\"lat\":[60.382098548551085],\"lon\":[5.328336800697642],\"marker\":{\"size\":0},\"mode\":\"markers\",\"type\":\"scattermapbox\"},{\"lat\":[60.38026271377996,60.380044402639385],\"lon\":[5.323223146883635,5.350823586678217],\"mode\":\"lines\",\"type\":\"scattermapbox\"},{\"hovertemplate\":\"Trips from Damsg\\u00e5rdsveien 71 to M\\u00f8llestranden: 26\",\"lat\":[60.38015355820967],\"lon\":[5.337023366780926],\"marker\":{\"size\":0},\"mode\":\"markers\",\"type\":\"scattermapbox\"},{\"lat\":[60.38026271377996,60.38422650043981],\"lon\":[5.323223146883635,5.3114871140229525],\"mode\":\"lines\",\"type\":\"scattermapbox\"},{\"hovertemplate\":\"Trips from Damsg\\u00e5rdsveien 71 to Damsg\\u00e5rdsveien 125: 2\",\"lat\":[60.38224460710988],\"lon\":[5.3173551304532936],\"marker\":{\"size\":0},\"mode\":\"markers\",\"type\":\"scattermapbox\"},{\"lat\":[60.38026271377996,60.39309812241306],\"lon\":[5.323223146883635,5.327022724925882],\"mode\":\"lines\",\"type\":\"scattermapbox\"},{\"hovertemplate\":\"Trips from Damsg\\u00e5rdsveien 71 to Sm\\u00e5strandgaten: 8\",\"lat\":[60.38668041809651],\"lon\":[5.3251229359047585],\"marker\":{\"size\":0},\"mode\":\"markers\",\"type\":\"scattermapbox\"},{\"lat\":[60.38026271377996,60.38819667374428],\"lon\":[5.323223146883635,5.328564137089416],\"mode\":\"lines\",\"type\":\"scattermapbox\"},{\"hovertemplate\":\"Trips from Damsg\\u00e5rdsveien 71 to Grieghallen: 12\",\"lat\":[60.38422969376212],\"lon\":[5.325893641986525],\"marker\":{\"size\":0},\"mode\":\"markers\",\"type\":\"scattermapbox\"},{\"lat\":[60.38026271377996,60.40175764348675],\"lon\":[5.323223146883635,5.316562300638424],\"mode\":\"lines\",\"type\":\"scattermapbox\"},{\"hovertemplate\":\"Trips from Damsg\\u00e5rdsveien 71 to Bontelabo: 16\",\"lat\":[60.39101017863335],\"lon\":[5.319892723761029],\"marker\":{\"size\":0},\"mode\":\"markers\",\"type\":\"scattermapbox\"},{\"lat\":[60.38026271377996,60.35779657270476],\"lon\":[5.323223146883635,5.342069876253731],\"mode\":\"lines\",\"type\":\"scattermapbox\"},{\"hovertemplate\":\"Trips from Damsg\\u00e5rdsveien 71 to Kristianborg bybanestopp: 10\",\"lat\":[60.36902964324236],\"lon\":[5.332646511568683],\"marker\":{\"size\":0},\"mode\":\"markers\",\"type\":\"scattermapbox\"},{\"lat\":[60.38026271377996,60.395099485721786],\"lon\":[5.323223146883635,5.328645087376344],\"mode\":\"lines\",\"type\":\"scattermapbox\"},{\"hovertemplate\":\"Trips from Damsg\\u00e5rdsveien 71 to \\u00d8vre Korskirkeallmenning: 37\",\"lat\":[60.38768109975088],\"lon\":[5.325934117129989],\"marker\":{\"size\":0},\"mode\":\"markers\",\"type\":\"scattermapbox\"},{\"lat\":[60.38026271377996,60.38785633733042],\"lon\":[5.323223146883635,5.334459219764085],\"mode\":\"lines\",\"type\":\"scattermapbox\"},{\"hovertemplate\":\"Trips from Damsg\\u00e5rdsveien 71 to Busstasjonen 3  \\u00d8st: 5\",\"lat\":[60.38405952555519],\"lon\":[5.32884118332386],\"marker\":{\"size\":0},\"mode\":\"markers\",\"type\":\"scattermapbox\"},{\"lat\":[60.38026271377996,60.37625279587285],\"lon\":[5.323223146883635,5.334276104612741],\"mode\":\"lines\",\"type\":\"scattermapbox\"},{\"hovertemplate\":\"Trips from Damsg\\u00e5rdsveien 71 to B\\u00f8hmergaten: 4\",\"lat\":[60.37825775482641],\"lon\":[5.328749625748188],\"marker\":{\"size\":0},\"mode\":\"markers\",\"type\":\"scattermapbox\"},{\"lat\":[60.38026271377996,60.393689548634],\"lon\":[5.323223146883635,5.3265806966931],\"mode\":\"lines\",\"type\":\"scattermapbox\"},{\"hovertemplate\":\"Trips from Damsg\\u00e5rdsveien 71 to V\\u00e5gsallmenningen: 10\",\"lat\":[60.38697613120698],\"lon\":[5.324901921788367],\"marker\":{\"size\":0},\"mode\":\"markers\",\"type\":\"scattermapbox\"},{\"lat\":[60.38026271377996,60.40190553013225],\"lon\":[5.323223146883635,5.324747767839426],\"mode\":\"lines\",\"type\":\"scattermapbox\"},{\"hovertemplate\":\"Trips from Damsg\\u00e5rdsveien 71 to Hans Hauges gate: 0\",\"lat\":[60.391084121956105],\"lon\":[5.32398545736153],\"marker\":{\"size\":0},\"mode\":\"markers\",\"type\":\"scattermapbox\"},{\"lat\":[60.38026271377996,60.39265146337743],\"lon\":[5.323223146883635,5.328976911981613],\"mode\":\"lines\",\"type\":\"scattermapbox\"},{\"hovertemplate\":\"Trips from Damsg\\u00e5rdsveien 71 to Allehelgens plass: 38\",\"lat\":[60.386457088578695],\"lon\":[5.326100029432624],\"marker\":{\"size\":0},\"mode\":\"markers\",\"type\":\"scattermapbox\"},{\"lat\":[60.38026271377996,60.38824732496974],\"lon\":[5.323223146883635,5.324558211682643],\"mode\":\"lines\",\"type\":\"scattermapbox\"},{\"hovertemplate\":\"Trips from Damsg\\u00e5rdsveien 71 to John Lunds plass: 4\",\"lat\":[60.38425501937485],\"lon\":[5.323890679283139],\"marker\":{\"size\":0},\"mode\":\"markers\",\"type\":\"scattermapbox\"},{\"lat\":[60.38026271377996,60.38963215691683],\"lon\":[5.323223146883635,5.286516470683409],\"mode\":\"lines\",\"type\":\"scattermapbox\"},{\"hovertemplate\":\"Trips from Damsg\\u00e5rdsveien 71 to Laksev\\u00e5g senter: 24\",\"lat\":[60.384947435348394],\"lon\":[5.304869808783522],\"marker\":{\"size\":0},\"mode\":\"markers\",\"type\":\"scattermapbox\"},{\"lat\":[60.38026271377996,60.373637920628255],\"lon\":[5.323223146883635,5.35659456239955],\"mode\":\"lines\",\"type\":\"scattermapbox\"},{\"hovertemplate\":\"Trips from Damsg\\u00e5rdsveien 71 to Haukeland sykehus: 1\",\"lat\":[60.376950317204106],\"lon\":[5.3399088546415925],\"marker\":{\"size\":0},\"mode\":\"markers\",\"type\":\"scattermapbox\"},{\"lat\":[60.38026271377996,60.38174958551062],\"lon\":[5.323223146883635,5.331698655041777],\"mode\":\"lines\",\"type\":\"scattermapbox\"},{\"hovertemplate\":\"Trips from Damsg\\u00e5rdsveien 71 to H\\u00f8yteknologisenteret: 13\",\"lat\":[60.38100614964529],\"lon\":[5.327460900962706],\"marker\":{\"size\":0},\"mode\":\"markers\",\"type\":\"scattermapbox\"},{\"lat\":[60.38026271377996,60.38962622255798],\"lon\":[5.323223146883635,5.3298637396027],\"mode\":\"lines\",\"type\":\"scattermapbox\"},{\"hovertemplate\":\"Trips from Damsg\\u00e5rdsveien 71 to Lysverket: 0\",\"lat\":[60.38494446816897],\"lon\":[5.3265434432431675],\"marker\":{\"size\":0},\"mode\":\"markers\",\"type\":\"scattermapbox\"},{\"lat\":[60.38026271377996,60.38853002489311],\"lon\":[5.323223146883635,5.318665231464365],\"mode\":\"lines\",\"type\":\"scattermapbox\"},{\"hovertemplate\":\"Trips from Damsg\\u00e5rdsveien 71 to Johanneskirken: 2\",\"lat\":[60.384396369336535],\"lon\":[5.320944189174],\"marker\":{\"size\":0},\"mode\":\"markers\",\"type\":\"scattermapbox\"},{\"lat\":[60.38026271377996,60.38658238047282],\"lon\":[5.323223146883635,5.326041074182427],\"mode\":\"lines\",\"type\":\"scattermapbox\"},{\"hovertemplate\":\"Trips from Damsg\\u00e5rdsveien 71 to Str\\u00f8mgaten: 3\",\"lat\":[60.383422547126386],\"lon\":[5.324632110533031],\"marker\":{\"size\":0},\"mode\":\"markers\",\"type\":\"scattermapbox\"},{\"lat\":[60.38026271377996,60.3881178890904],\"lon\":[5.323223146883635,5.331487235597251],\"mode\":\"lines\",\"type\":\"scattermapbox\"},{\"hovertemplate\":\"Trips from Damsg\\u00e5rdsveien 71 to Lars Hilles: 40\",\"lat\":[60.38419030143518],\"lon\":[5.327355191240443],\"marker\":{\"size\":0},\"mode\":\"markers\",\"type\":\"scattermapbox\"},{\"lat\":[60.38026271377996,60.40569501689435],\"lon\":[5.323223146883635,5.323373526334763],\"mode\":\"lines\",\"type\":\"scattermapbox\"},{\"hovertemplate\":\"Trips from Damsg\\u00e5rdsveien 71 to Sandviksbodene: 1\",\"lat\":[60.392978865337156],\"lon\":[5.323298336609199],\"marker\":{\"size\":0},\"mode\":\"markers\",\"type\":\"scattermapbox\"},{\"lat\":[60.38026271377996,60.38971028611195],\"lon\":[5.323223146883635,5.314041873201262],\"mode\":\"lines\",\"type\":\"scattermapbox\"},{\"hovertemplate\":\"Trips from Damsg\\u00e5rdsveien 71 to Christian Michelsens institutt: 7\",\"lat\":[60.38498649994595],\"lon\":[5.318632510042448],\"marker\":{\"size\":0},\"mode\":\"markers\",\"type\":\"scattermapbox\"},{\"lat\":[60.38026271377996,60.34929962482292],\"lon\":[5.323223146883635,5.288490147562243],\"mode\":\"lines\",\"type\":\"scattermapbox\"},{\"hovertemplate\":\"Trips from Damsg\\u00e5rdsveien 71 to Fyllingsdalen bussterminal: 0\",\"lat\":[60.36478116930144],\"lon\":[5.305856647222939],\"marker\":{\"size\":0},\"mode\":\"markers\",\"type\":\"scattermapbox\"},{\"lat\":[60.38026271377996,60.41830821831951],\"lon\":[5.323223146883635,5.309946203281243],\"mode\":\"lines\",\"type\":\"scattermapbox\"},{\"hovertemplate\":\"Trips from Damsg\\u00e5rdsveien 71 to Gamle Bergen: 0\",\"lat\":[60.39928546604973],\"lon\":[5.316584675082439],\"marker\":{\"size\":0},\"mode\":\"markers\",\"type\":\"scattermapbox\"},{\"lat\":[60.38026271377996,60.34877037988127],\"lon\":[5.323223146883635,5.288172686196418],\"mode\":\"lines\",\"type\":\"scattermapbox\"},{\"hovertemplate\":\"Trips from Damsg\\u00e5rdsveien 71 to Oasen: 0\",\"lat\":[60.364516546830615],\"lon\":[5.305697916540026],\"marker\":{\"size\":0},\"mode\":\"markers\",\"type\":\"scattermapbox\"},{\"lat\":[60.38026271377996,60.37957605699612],\"lon\":[5.323223146883635,5.344655017198988],\"mode\":\"lines\",\"type\":\"scattermapbox\"},{\"hovertemplate\":\"Trips from Damsg\\u00e5rdsveien 71 to Tonningneset: 1\",\"lat\":[60.37991938538804],\"lon\":[5.3339390820413115],\"marker\":{\"size\":0},\"mode\":\"markers\",\"type\":\"scattermapbox\"},{\"lat\":[60.38026271377996,60.410929182460585],\"lon\":[5.323223146883635,5.324662770153282],\"mode\":\"lines\",\"type\":\"scattermapbox\"},{\"hovertemplate\":\"Trips from Damsg\\u00e5rdsveien 71 to Amalie Skrams vei Nord: 0\",\"lat\":[60.395595948120274],\"lon\":[5.323942958518458],\"marker\":{\"size\":0},\"mode\":\"markers\",\"type\":\"scattermapbox\"},{\"lat\":[60.38026271377996,60.39245536165015],\"lon\":[5.323223146883635,5.320185176096857],\"mode\":\"lines\",\"type\":\"scattermapbox\"},{\"hovertemplate\":\"Trips from Damsg\\u00e5rdsveien 71 to Den Nationale Scene: 3\",\"lat\":[60.38635903771505],\"lon\":[5.321704161490246],\"marker\":{\"size\":0},\"mode\":\"markers\",\"type\":\"scattermapbox\"},{\"lat\":[60.38026271377996,60.40568787342849],\"lon\":[5.323223146883635,5.325658910381037],\"mode\":\"lines\",\"type\":\"scattermapbox\"},{\"hovertemplate\":\"Trips from Damsg\\u00e5rdsveien 71 to Kirkegaten: 2\",\"lat\":[60.39297529360422],\"lon\":[5.324441028632336],\"marker\":{\"size\":0},\"mode\":\"markers\",\"type\":\"scattermapbox\"},{\"lat\":[60.38026271377996,60.35445411401244],\"lon\":[5.323223146883635,5.299180336561079],\"mode\":\"lines\",\"type\":\"scattermapbox\"},{\"hovertemplate\":\"Trips from Damsg\\u00e5rdsveien 71 to Lynghaug Borettslag: 0\",\"lat\":[60.3673584138962],\"lon\":[5.311201741722357],\"marker\":{\"size\":0},\"mode\":\"markers\",\"type\":\"scattermapbox\"},{\"lat\":[60.38026271377996,60.35476186261224],\"lon\":[5.323223146883635,5.293049946752319],\"mode\":\"lines\",\"type\":\"scattermapbox\"},{\"hovertemplate\":\"Trips from Damsg\\u00e5rdsveien 71 to Lynghaugparken: 0\",\"lat\":[60.3675122881961],\"lon\":[5.308136546817977],\"marker\":{\"size\":0},\"mode\":\"markers\",\"type\":\"scattermapbox\"},{\"lat\":[60.38026271377996,60.40248149976336],\"lon\":[5.323223146883635,5.316471128195502],\"mode\":\"lines\",\"type\":\"scattermapbox\"},{\"hovertemplate\":\"Trips from Damsg\\u00e5rdsveien 71 to Bontelabo 8: 6\",\"lat\":[60.39137210677166],\"lon\":[5.319847137539568],\"marker\":{\"size\":0},\"mode\":\"markers\",\"type\":\"scattermapbox\"},{\"lat\":[60.38026271377996,60.42334343329279],\"lon\":[5.323223146883635,5.303070676006087],\"mode\":\"lines\",\"type\":\"scattermapbox\"},{\"hovertemplate\":\"Trips from Damsg\\u00e5rdsveien 71 to NHH: 0\",\"lat\":[60.40180307353638],\"lon\":[5.313146911444861],\"marker\":{\"size\":0},\"mode\":\"markers\",\"type\":\"scattermapbox\"},{\"lat\":[60.38026271377996,60.39901997750764],\"lon\":[5.323223146883635,5.303322069576893],\"mode\":\"lines\",\"type\":\"scattermapbox\"},{\"hovertemplate\":\"Trips from Damsg\\u00e5rdsveien 71 to Nordnes Sj\\u00f8bad: 4\",\"lat\":[60.3896413456438],\"lon\":[5.313272608230264],\"marker\":{\"size\":0},\"mode\":\"markers\",\"type\":\"scattermapbox\"},{\"lat\":[60.38026271377996,60.349700584307215],\"lon\":[5.323223146883635,5.278626852345383],\"mode\":\"lines\",\"type\":\"scattermapbox\"},{\"hovertemplate\":\"Trips from Damsg\\u00e5rdsveien 71 to Spelhaugen: 0\",\"lat\":[60.364981649043585],\"lon\":[5.300924999614509],\"marker\":{\"size\":0},\"mode\":\"markers\",\"type\":\"scattermapbox\"},{\"lat\":[60.38026271377996,60.3454585991698],\"lon\":[5.323223146883635,5.297121899354551],\"mode\":\"lines\",\"type\":\"scattermapbox\"},{\"hovertemplate\":\"Trips from Damsg\\u00e5rdsveien 71 to S\\u00e6lemyr busstopp: 0\",\"lat\":[60.36286065647488],\"lon\":[5.310172523119093],\"marker\":{\"size\":0},\"mode\":\"markers\",\"type\":\"scattermapbox\"},{\"lat\":[60.38026271377996,60.34515023813836],\"lon\":[5.323223146883635,5.286669158622601],\"mode\":\"lines\",\"type\":\"scattermapbox\"},{\"hovertemplate\":\"Trips from Damsg\\u00e5rdsveien 71 to Ortun Sv\\u00f8mmehall: 0\",\"lat\":[60.36270647595916],\"lon\":[5.304946152753118],\"marker\":{\"size\":0},\"mode\":\"markers\",\"type\":\"scattermapbox\"},{\"lat\":[60.38026271377996,60.388242218095],\"lon\":[5.323223146883635,5.34094712971887],\"mode\":\"lines\",\"type\":\"scattermapbox\"},{\"hovertemplate\":\"Trips from Damsg\\u00e5rdsveien 71 to Kalfarveien 31: 0\",\"lat\":[60.38425246593748],\"lon\":[5.332085138301252],\"marker\":{\"size\":0},\"mode\":\"markers\",\"type\":\"scattermapbox\"},{\"lat\":[60.38026271377996,60.35264796598477],\"lon\":[5.323223146883635,5.298680226505098],\"mode\":\"lines\",\"type\":\"scattermapbox\"},{\"hovertemplate\":\"Trips from Damsg\\u00e5rdsveien 71 to Dag Hammarskj\\u00f6ldsvei 73: 0\",\"lat\":[60.366455339882364],\"lon\":[5.3109516866943665],\"marker\":{\"size\":0},\"mode\":\"markers\",\"type\":\"scattermapbox\"},{\"lat\":[60.38026271377996,60.3720506380196],\"lon\":[5.323223146883635,5.352659970408496],\"mode\":\"lines\",\"type\":\"scattermapbox\"},{\"hovertemplate\":\"Trips from Damsg\\u00e5rdsveien 71 to Kronstad: 0\",\"lat\":[60.37615667589978],\"lon\":[5.337941558646065],\"marker\":{\"size\":0},\"mode\":\"markers\",\"type\":\"scattermapbox\"},{\"lat\":[60.38026271377996,60.34722011283134],\"lon\":[5.323223146883635,5.273174034250616],\"mode\":\"lines\",\"type\":\"scattermapbox\"},{\"hovertemplate\":\"Trips from Damsg\\u00e5rdsveien 71 to Holtet Borettslag: 0\",\"lat\":[60.36374141330565],\"lon\":[5.298198590567125],\"marker\":{\"size\":0},\"mode\":\"markers\",\"type\":\"scattermapbox\"},{\"lat\":[60.38026271377996,60.34541065445748],\"lon\":[5.323223146883635,5.28332212346433],\"mode\":\"lines\",\"type\":\"scattermapbox\"},{\"hovertemplate\":\"Trips from Damsg\\u00e5rdsveien 71 to S\\u00e6len: 0\",\"lat\":[60.36283668411872],\"lon\":[5.3032726351739825],\"marker\":{\"size\":0},\"mode\":\"markers\",\"type\":\"scattermapbox\"},{\"lat\":[60.38026271377996,60.396329429740746],\"lon\":[5.323223146883635,5.315115500234867],\"mode\":\"lines\",\"type\":\"scattermapbox\"},{\"hovertemplate\":\"Trips from Damsg\\u00e5rdsveien 71 to Comfort Hotel Bergen: 4\",\"lat\":[60.38829607176035],\"lon\":[5.319169323559251],\"marker\":{\"size\":0},\"mode\":\"markers\",\"type\":\"scattermapbox\"},{\"lat\":[60.38026271377996,60.39296632614153],\"lon\":[5.323223146883635,5.323538420433351],\"mode\":\"lines\",\"type\":\"scattermapbox\"},{\"hovertemplate\":\"Trips from Damsg\\u00e5rdsveien 71 to Torgallmenningen: 25\",\"lat\":[60.386614519960744],\"lon\":[5.323380783658493],\"marker\":{\"size\":0},\"mode\":\"markers\",\"type\":\"scattermapbox\"},{\"lat\":[60.38026271377996,60.379685765470725],\"lon\":[5.323223146883635,5.3519936304809335],\"mode\":\"lines\",\"type\":\"scattermapbox\"},{\"hovertemplate\":\"Trips from Damsg\\u00e5rdsveien 71 to M\\u00f8llendalsplass: 46\",\"lat\":[60.37997423962534],\"lon\":[5.337608388682284],\"marker\":{\"size\":0},\"mode\":\"markers\",\"type\":\"scattermapbox\"},{\"lat\":[60.38026271377996,60.35131138665341],\"lon\":[5.323223146883635,5.289942788398179],\"mode\":\"lines\",\"type\":\"scattermapbox\"},{\"hovertemplate\":\"Trips from Damsg\\u00e5rdsveien 71 to Folke Bernadottesvei 38: 0\",\"lat\":[60.36578705021668],\"lon\":[5.306582967640907],\"marker\":{\"size\":0},\"mode\":\"markers\",\"type\":\"scattermapbox\"},{\"lat\":[60.38026271377996,60.36046422871607],\"lon\":[5.323223146883635,5.290126212391755],\"mode\":\"lines\",\"type\":\"scattermapbox\"},{\"hovertemplate\":\"Trips from Damsg\\u00e5rdsveien 71 to Vestlund Borettslag: 0\",\"lat\":[60.37036347124801],\"lon\":[5.306674679637695],\"marker\":{\"size\":0},\"mode\":\"markers\",\"type\":\"scattermapbox\"},{\"lat\":[60.38026271377996,60.34103053759091],\"lon\":[5.323223146883635,5.291006144381328],\"mode\":\"lines\",\"type\":\"scattermapbox\"},{\"hovertemplate\":\"Trips from Damsg\\u00e5rdsveien 71 to Ortustranden: 1\",\"lat\":[60.36064662568543],\"lon\":[5.307114645632481],\"marker\":{\"size\":0},\"mode\":\"markers\",\"type\":\"scattermapbox\"},{\"hoverinfo\":\"text\",\"lat\":[60.38026271377996,60.39375532002469,60.39514386434325,60.38668149584837,60.39454985253085,60.37514055132067,60.38904687509401,60.37178687508714,60.391123958982405,60.38445114789948,60.38604412210008,60.390414110522414,60.38967202352878,60.395137943082446,60.39865649373253,60.382254745562825,60.38316244112318,60.39291769029913,60.39886453454994,60.39097915423838,60.379894791874165,60.396949224333255,60.39397677863768,60.38151150199543,60.395877002094046,60.39705738914522,60.367425453190464,60.38719801795013,60.39622446162616,60.41294568274233,60.39987652272946,60.393323250707,60.3867091497868,60.386068777690944,60.37802198798124,60.39587808663882,60.39118461048114,60.37708169275558,60.38591618700343,60.37878279018753,60.369179844976586,60.408582102784685,60.37810721367397,60.39267683527631,60.385922875207626,60.37049377702599,60.38972226200196,60.39770902893835,60.408096993005785,60.38658166593217,60.373985939857135,60.38890977889046,60.38246949877819,60.38828383354144,60.376082994809856,60.37831673774707,60.395070112977045,60.3906427466302,60.387853713374845,60.390174061139966,60.390108717939874,60.39947506336557,60.40222876911276,60.38705878935416,60.39148438859138,60.39638423113168,60.38103776618004,60.37911124360612,60.39138580667719,60.3921816648884,60.384467341026586,60.38543124330305,60.39066508674793,60.391983600413376,60.3839343833222,60.380044402639385,60.38422650043981,60.39309812241306,60.38819667374428,60.40175764348675,60.35779657270476,60.395099485721786,60.38785633733042,60.37625279587285,60.393689548634,60.40190553013225,60.39265146337743,60.38824732496974,60.38963215691683,60.373637920628255,60.38174958551062,60.38962622255798,60.38853002489311,60.38658238047282,60.3881178890904,60.40569501689435,60.38971028611195,60.34929962482292,60.41830821831951,60.34877037988127,60.37957605699612,60.410929182460585,60.39245536165015,60.40568787342849,60.35445411401244,60.35476186261224,60.40248149976336,60.42334343329279,60.39901997750764,60.349700584307215,60.3454585991698,60.34515023813836,60.388242218095,60.35264796598477,60.3720506380196,60.34722011283134,60.34541065445748,60.396329429740746,60.39296632614153,60.379685765470725,60.35131138665341,60.36046422871607,60.34103053759091],\"lon\":[5.323223146883635,5.3217920958013565,5.320002322335455,5.3309780770646,5.327049981572372,5.338517421420761,5.321882967938819,5.349552885719248,5.325713785893413,5.324440726278226,5.349253890141261,5.332650453823391,5.3336050852019525,5.314946630388022,5.3221425864564935,5.3323324699108525,5.324053067317891,5.323669092809325,5.306410871328268,5.320656172070585,5.35207758319504,5.313494727727743,5.318713236118583,5.319435364152128,5.307755827707297,5.314548482139799,5.3551910634374735,5.322980046239536,5.315384703788823,5.320870309021842,5.304686307890734,5.330654155344547,5.299130112557805,5.3001083072740585,5.329383048102329,5.325283812313046,5.318026298282803,5.335575458852787,5.319206933440256,5.3333274872102265,5.349443793165847,5.322648583141813,5.331020769519228,5.317308285189142,5.321431717819451,5.353846489647282,5.314854189834826,5.32200057798218,5.325510899047174,5.327978744635743,5.342082137178068,5.333817119783134,5.32609348920866,5.332872680372475,5.339851409058042,5.350897458652753,5.31879835082907,5.324397430398562,5.318712852428234,5.324792207669702,5.3353874337574325,5.308762204430565,5.320744723528605,5.335633911730724,5.328519197920741,5.324169337618514,5.35905189499951,5.361202283994771,5.319194867192266,5.315016280520865,5.310007717995973,5.337431780062616,5.333027169585989,5.32661819461282,5.333450454511649,5.350823586678217,5.3114871140229525,5.327022724925882,5.328564137089416,5.316562300638424,5.342069876253731,5.328645087376344,5.334459219764085,5.334276104612741,5.3265806966931,5.324747767839426,5.328976911981613,5.324558211682643,5.286516470683409,5.35659456239955,5.331698655041777,5.3298637396027,5.318665231464365,5.326041074182427,5.331487235597251,5.323373526334763,5.314041873201262,5.288490147562243,5.309946203281243,5.288172686196418,5.344655017198988,5.324662770153282,5.320185176096857,5.325658910381037,5.299180336561079,5.293049946752319,5.316471128195502,5.303070676006087,5.303322069576893,5.278626852345383,5.297121899354551,5.286669158622601,5.34094712971887,5.298680226505098,5.352659970408496,5.273174034250616,5.28332212346433,5.315115500234867,5.323538420433351,5.3519936304809335,5.289942788398179,5.290126212391755,5.291006144381328],\"marker\":{\"size\":8},\"mode\":\"markers\",\"text\":[\"Damsg\\u00e5rdsveien 71\",\"T\\u00e5rnplass\",\"\\u00d8stre Murallmenningen nedre\",\"St. Jakobs Plass\",\"Nedre Korskirkeallmenning\",\"Solheimsgaten (ved Extra)\",\"Rosenbergsgaten\",\"Kronstad bybanestopp\",\"Festplassen\",\"Welhavens gate 64\",\"Hansaparken\",\"Bergen jernbanestasjon\",\"Nonneseterplass\",\"Klosteret\",\"Dreggsallmenningen Nord\",\"Florida Bybanestopp\",\"Thorm\\u00f8hlens gate\",\"Torgallmenningen\",\"Takhagen p\\u00e5 Nordnes\",\"Neumanns gate II\",\"M\\u00f8llendalsplass\",\"Nykirken\",\"\\u00d8stre Murallmenningen \\u00f8vre\",\"Damsg\\u00e5rdsveien\",\"Verftet\",\"Nykirkekaien\",\"Brann Stadion\",\"Studentsenteret UiB\",\"Comfort Hotel Bergen\",\"Sandviken Brygge\",\"Akvariet\",\"Kong Oscars gate\",\"Damsg\\u00e5rdsallmenningen\",\"Laksev\\u00e5g v\\u002fKirkebukten\",\"Damsg\\u00e5rdsveien 2\",\"Torget\",\"H\\u00e5konsgaten\",\"Solheimsviken\",\"Puddefjordsbroen\",\"Moxy Hotellet\",\"H\\u00f8gskulen p\\u00e5 Vestlandet\",\"Sandvikstorget\",\"Krohnviken\",\"Jonsvollkvartalet\",\"Ole Vigs gate\",\"Haukelandshallen\",\"Magnus Lagab\\u00f8tes Plass\",\"Dreggsallmenningen S\\u00f8r\",\"Amalie Skrams vei S\\u00f8r\",\"Fosswinckels gate\",\"Bj\\u00f8rnsonsgate\",\"Busstasjonen 1 Nord\",\"Cornerteateret\",\"Busstasjonen 2 Vest\",\"Danmarksplass\",\"Studentboligene\",\"G\\u00e5gaten\",\"Permanenten\",\"HF-Bygget\",\"Stenersen\",\"Zander Kaaes gate\",\"C. Sundts gate\",\"Skutevikstorget\",\"Busstasjonen 4 S\\u00f8r\",\"R\\u00e5dhuset\",\"Skur 11\",\"Odontologen\",\"Haraldsplass\",\"Neumanns gate\",\"N\\u00f8stetorget\",\"Frydenb\\u00f8 Marina\",\"AdO arena\",\"Bergen Jernbanestasjon II\",\"Gulating\",\"Nyg\\u00e5rdsporten\",\"M\\u00f8llestranden\",\"Damsg\\u00e5rdsveien 125\",\"Sm\\u00e5strandgaten\",\"Grieghallen\",\"Bontelabo\",\"Kristianborg bybanestopp\",\"\\u00d8vre Korskirkeallmenning\",\"Busstasjonen 3  \\u00d8st\",\"B\\u00f8hmergaten\",\"V\\u00e5gsallmenningen\",\"Hans Hauges gate\",\"Allehelgens plass\",\"John Lunds plass\",\"Laksev\\u00e5g senter\",\"Haukeland sykehus\",\"H\\u00f8yteknologisenteret\",\"Lysverket\",\"Johanneskirken\",\"Str\\u00f8mgaten\",\"Lars Hilles\",\"Sandviksbodene\",\"Christian Michelsens institutt\",\"Fyllingsdalen bussterminal\",\"Gamle Bergen\",\"Oasen\",\"Tonningneset\",\"Amalie Skrams vei Nord\",\"Den Nationale Scene\",\"Kirkegaten\",\"Lynghaug Borettslag\",\"Lynghaugparken\",\"Bontelabo 8\",\"NHH\",\"Nordnes Sj\\u00f8bad\",\"Spelhaugen\",\"S\\u00e6lemyr busstopp\",\"Ortun Sv\\u00f8mmehall\",\"Kalfarveien 31\",\"Dag Hammarskj\\u00f6ldsvei 73\",\"Kronstad\",\"Holtet Borettslag\",\"S\\u00e6len\",\"Comfort Hotel Bergen\",\"Torgallmenningen\",\"M\\u00f8llendalsplass\",\"Folke Bernadottesvei 38\",\"Vestlund Borettslag\",\"Ortustranden\"],\"type\":\"scattermapbox\"}],                        {\"template\":{\"data\":{\"histogram2dcontour\":[{\"type\":\"histogram2dcontour\",\"colorbar\":{\"outlinewidth\":0,\"ticks\":\"\"},\"colorscale\":[[0.0,\"#0d0887\"],[0.1111111111111111,\"#46039f\"],[0.2222222222222222,\"#7201a8\"],[0.3333333333333333,\"#9c179e\"],[0.4444444444444444,\"#bd3786\"],[0.5555555555555556,\"#d8576b\"],[0.6666666666666666,\"#ed7953\"],[0.7777777777777778,\"#fb9f3a\"],[0.8888888888888888,\"#fdca26\"],[1.0,\"#f0f921\"]]}],\"choropleth\":[{\"type\":\"choropleth\",\"colorbar\":{\"outlinewidth\":0,\"ticks\":\"\"}}],\"histogram2d\":[{\"type\":\"histogram2d\",\"colorbar\":{\"outlinewidth\":0,\"ticks\":\"\"},\"colorscale\":[[0.0,\"#0d0887\"],[0.1111111111111111,\"#46039f\"],[0.2222222222222222,\"#7201a8\"],[0.3333333333333333,\"#9c179e\"],[0.4444444444444444,\"#bd3786\"],[0.5555555555555556,\"#d8576b\"],[0.6666666666666666,\"#ed7953\"],[0.7777777777777778,\"#fb9f3a\"],[0.8888888888888888,\"#fdca26\"],[1.0,\"#f0f921\"]]}],\"heatmap\":[{\"type\":\"heatmap\",\"colorbar\":{\"outlinewidth\":0,\"ticks\":\"\"},\"colorscale\":[[0.0,\"#0d0887\"],[0.1111111111111111,\"#46039f\"],[0.2222222222222222,\"#7201a8\"],[0.3333333333333333,\"#9c179e\"],[0.4444444444444444,\"#bd3786\"],[0.5555555555555556,\"#d8576b\"],[0.6666666666666666,\"#ed7953\"],[0.7777777777777778,\"#fb9f3a\"],[0.8888888888888888,\"#fdca26\"],[1.0,\"#f0f921\"]]}],\"heatmapgl\":[{\"type\":\"heatmapgl\",\"colorbar\":{\"outlinewidth\":0,\"ticks\":\"\"},\"colorscale\":[[0.0,\"#0d0887\"],[0.1111111111111111,\"#46039f\"],[0.2222222222222222,\"#7201a8\"],[0.3333333333333333,\"#9c179e\"],[0.4444444444444444,\"#bd3786\"],[0.5555555555555556,\"#d8576b\"],[0.6666666666666666,\"#ed7953\"],[0.7777777777777778,\"#fb9f3a\"],[0.8888888888888888,\"#fdca26\"],[1.0,\"#f0f921\"]]}],\"contourcarpet\":[{\"type\":\"contourcarpet\",\"colorbar\":{\"outlinewidth\":0,\"ticks\":\"\"}}],\"contour\":[{\"type\":\"contour\",\"colorbar\":{\"outlinewidth\":0,\"ticks\":\"\"},\"colorscale\":[[0.0,\"#0d0887\"],[0.1111111111111111,\"#46039f\"],[0.2222222222222222,\"#7201a8\"],[0.3333333333333333,\"#9c179e\"],[0.4444444444444444,\"#bd3786\"],[0.5555555555555556,\"#d8576b\"],[0.6666666666666666,\"#ed7953\"],[0.7777777777777778,\"#fb9f3a\"],[0.8888888888888888,\"#fdca26\"],[1.0,\"#f0f921\"]]}],\"surface\":[{\"type\":\"surface\",\"colorbar\":{\"outlinewidth\":0,\"ticks\":\"\"},\"colorscale\":[[0.0,\"#0d0887\"],[0.1111111111111111,\"#46039f\"],[0.2222222222222222,\"#7201a8\"],[0.3333333333333333,\"#9c179e\"],[0.4444444444444444,\"#bd3786\"],[0.5555555555555556,\"#d8576b\"],[0.6666666666666666,\"#ed7953\"],[0.7777777777777778,\"#fb9f3a\"],[0.8888888888888888,\"#fdca26\"],[1.0,\"#f0f921\"]]}],\"mesh3d\":[{\"type\":\"mesh3d\",\"colorbar\":{\"outlinewidth\":0,\"ticks\":\"\"}}],\"scatter\":[{\"fillpattern\":{\"fillmode\":\"overlay\",\"size\":10,\"solidity\":0.2},\"type\":\"scatter\"}],\"parcoords\":[{\"type\":\"parcoords\",\"line\":{\"colorbar\":{\"outlinewidth\":0,\"ticks\":\"\"}}}],\"scatterpolargl\":[{\"type\":\"scatterpolargl\",\"marker\":{\"colorbar\":{\"outlinewidth\":0,\"ticks\":\"\"}}}],\"bar\":[{\"error_x\":{\"color\":\"#2a3f5f\"},\"error_y\":{\"color\":\"#2a3f5f\"},\"marker\":{\"line\":{\"color\":\"#E5ECF6\",\"width\":0.5},\"pattern\":{\"fillmode\":\"overlay\",\"size\":10,\"solidity\":0.2}},\"type\":\"bar\"}],\"scattergeo\":[{\"type\":\"scattergeo\",\"marker\":{\"colorbar\":{\"outlinewidth\":0,\"ticks\":\"\"}}}],\"scatterpolar\":[{\"type\":\"scatterpolar\",\"marker\":{\"colorbar\":{\"outlinewidth\":0,\"ticks\":\"\"}}}],\"histogram\":[{\"marker\":{\"pattern\":{\"fillmode\":\"overlay\",\"size\":10,\"solidity\":0.2}},\"type\":\"histogram\"}],\"scattergl\":[{\"type\":\"scattergl\",\"marker\":{\"colorbar\":{\"outlinewidth\":0,\"ticks\":\"\"}}}],\"scatter3d\":[{\"type\":\"scatter3d\",\"line\":{\"colorbar\":{\"outlinewidth\":0,\"ticks\":\"\"}},\"marker\":{\"colorbar\":{\"outlinewidth\":0,\"ticks\":\"\"}}}],\"scattermapbox\":[{\"type\":\"scattermapbox\",\"marker\":{\"colorbar\":{\"outlinewidth\":0,\"ticks\":\"\"}}}],\"scatterternary\":[{\"type\":\"scatterternary\",\"marker\":{\"colorbar\":{\"outlinewidth\":0,\"ticks\":\"\"}}}],\"scattercarpet\":[{\"type\":\"scattercarpet\",\"marker\":{\"colorbar\":{\"outlinewidth\":0,\"ticks\":\"\"}}}],\"carpet\":[{\"aaxis\":{\"endlinecolor\":\"#2a3f5f\",\"gridcolor\":\"white\",\"linecolor\":\"white\",\"minorgridcolor\":\"white\",\"startlinecolor\":\"#2a3f5f\"},\"baxis\":{\"endlinecolor\":\"#2a3f5f\",\"gridcolor\":\"white\",\"linecolor\":\"white\",\"minorgridcolor\":\"white\",\"startlinecolor\":\"#2a3f5f\"},\"type\":\"carpet\"}],\"table\":[{\"cells\":{\"fill\":{\"color\":\"#EBF0F8\"},\"line\":{\"color\":\"white\"}},\"header\":{\"fill\":{\"color\":\"#C8D4E3\"},\"line\":{\"color\":\"white\"}},\"type\":\"table\"}],\"barpolar\":[{\"marker\":{\"line\":{\"color\":\"#E5ECF6\",\"width\":0.5},\"pattern\":{\"fillmode\":\"overlay\",\"size\":10,\"solidity\":0.2}},\"type\":\"barpolar\"}],\"pie\":[{\"automargin\":true,\"type\":\"pie\"}]},\"layout\":{\"autotypenumbers\":\"strict\",\"colorway\":[\"#636efa\",\"#EF553B\",\"#00cc96\",\"#ab63fa\",\"#FFA15A\",\"#19d3f3\",\"#FF6692\",\"#B6E880\",\"#FF97FF\",\"#FECB52\"],\"font\":{\"color\":\"#2a3f5f\"},\"hovermode\":\"closest\",\"hoverlabel\":{\"align\":\"left\"},\"paper_bgcolor\":\"white\",\"plot_bgcolor\":\"#E5ECF6\",\"polar\":{\"bgcolor\":\"#E5ECF6\",\"angularaxis\":{\"gridcolor\":\"white\",\"linecolor\":\"white\",\"ticks\":\"\"},\"radialaxis\":{\"gridcolor\":\"white\",\"linecolor\":\"white\",\"ticks\":\"\"}},\"ternary\":{\"bgcolor\":\"#E5ECF6\",\"aaxis\":{\"gridcolor\":\"white\",\"linecolor\":\"white\",\"ticks\":\"\"},\"baxis\":{\"gridcolor\":\"white\",\"linecolor\":\"white\",\"ticks\":\"\"},\"caxis\":{\"gridcolor\":\"white\",\"linecolor\":\"white\",\"ticks\":\"\"}},\"coloraxis\":{\"colorbar\":{\"outlinewidth\":0,\"ticks\":\"\"}},\"colorscale\":{\"sequential\":[[0.0,\"#0d0887\"],[0.1111111111111111,\"#46039f\"],[0.2222222222222222,\"#7201a8\"],[0.3333333333333333,\"#9c179e\"],[0.4444444444444444,\"#bd3786\"],[0.5555555555555556,\"#d8576b\"],[0.6666666666666666,\"#ed7953\"],[0.7777777777777778,\"#fb9f3a\"],[0.8888888888888888,\"#fdca26\"],[1.0,\"#f0f921\"]],\"sequentialminus\":[[0.0,\"#0d0887\"],[0.1111111111111111,\"#46039f\"],[0.2222222222222222,\"#7201a8\"],[0.3333333333333333,\"#9c179e\"],[0.4444444444444444,\"#bd3786\"],[0.5555555555555556,\"#d8576b\"],[0.6666666666666666,\"#ed7953\"],[0.7777777777777778,\"#fb9f3a\"],[0.8888888888888888,\"#fdca26\"],[1.0,\"#f0f921\"]],\"diverging\":[[0,\"#8e0152\"],[0.1,\"#c51b7d\"],[0.2,\"#de77ae\"],[0.3,\"#f1b6da\"],[0.4,\"#fde0ef\"],[0.5,\"#f7f7f7\"],[0.6,\"#e6f5d0\"],[0.7,\"#b8e186\"],[0.8,\"#7fbc41\"],[0.9,\"#4d9221\"],[1,\"#276419\"]]},\"xaxis\":{\"gridcolor\":\"white\",\"linecolor\":\"white\",\"ticks\":\"\",\"title\":{\"standoff\":15},\"zerolinecolor\":\"white\",\"automargin\":true,\"zerolinewidth\":2},\"yaxis\":{\"gridcolor\":\"white\",\"linecolor\":\"white\",\"ticks\":\"\",\"title\":{\"standoff\":15},\"zerolinecolor\":\"white\",\"automargin\":true,\"zerolinewidth\":2},\"scene\":{\"xaxis\":{\"backgroundcolor\":\"#E5ECF6\",\"gridcolor\":\"white\",\"linecolor\":\"white\",\"showbackground\":true,\"ticks\":\"\",\"zerolinecolor\":\"white\",\"gridwidth\":2},\"yaxis\":{\"backgroundcolor\":\"#E5ECF6\",\"gridcolor\":\"white\",\"linecolor\":\"white\",\"showbackground\":true,\"ticks\":\"\",\"zerolinecolor\":\"white\",\"gridwidth\":2},\"zaxis\":{\"backgroundcolor\":\"#E5ECF6\",\"gridcolor\":\"white\",\"linecolor\":\"white\",\"showbackground\":true,\"ticks\":\"\",\"zerolinecolor\":\"white\",\"gridwidth\":2}},\"shapedefaults\":{\"line\":{\"color\":\"#2a3f5f\"}},\"annotationdefaults\":{\"arrowcolor\":\"#2a3f5f\",\"arrowhead\":0,\"arrowwidth\":1},\"geo\":{\"bgcolor\":\"white\",\"landcolor\":\"#E5ECF6\",\"subunitcolor\":\"white\",\"showland\":true,\"showlakes\":true,\"lakecolor\":\"white\"},\"title\":{\"x\":0.05},\"mapbox\":{\"style\":\"light\"}}},\"margin\":{\"l\":0,\"t\":0,\"b\":0,\"r\":0},\"mapbox\":{\"center\":{\"lon\":5.323223146883635,\"lat\":60.38026271377996},\"style\":\"open-street-map\",\"zoom\":10}},                        {\"responsive\": true}                    ).then(function(){\n",
       "                            \n",
       "var gd = document.getElementById('37b2e4d7-c88b-49ea-a537-5956ba0f7061');\n",
       "var x = new MutationObserver(function (mutations, observer) {{\n",
       "        var display = window.getComputedStyle(gd).display;\n",
       "        if (!display || display === 'none') {{\n",
       "            console.log([gd, 'removed!']);\n",
       "            Plotly.purge(gd);\n",
       "            observer.disconnect();\n",
       "        }}\n",
       "}});\n",
       "\n",
       "// Listen for the removal of the full notebook cells\n",
       "var notebookContainer = gd.closest('#notebook-container');\n",
       "if (notebookContainer) {{\n",
       "    x.observe(notebookContainer, {childList: true});\n",
       "}}\n",
       "\n",
       "// Listen for the clearing of the current output cell\n",
       "var outputEl = gd.closest('.output');\n",
       "if (outputEl) {{\n",
       "    x.observe(outputEl, {childList: true});\n",
       "}}\n",
       "\n",
       "                        })                };                });            </script>        </div>"
      ]
     },
     "metadata": {},
     "output_type": "display_data"
    }
   ],
   "source": [
    "import plotly.graph_objects as go\n",
    "\n",
    "fig = go.Figure()\n",
    "\n",
    "# Get base station (in this example, we're using the first station as the base)\n",
    "base_station_name = all_stations_df.iloc[0][\"station_name\"]\n",
    "\n",
    "\n",
    "# Filter trips to other stations from the base station\n",
    "trips_from_base = trips_to_other_stations_df[trips_to_other_stations_df['start_station_name'] == base_station_name]\n",
    "\n",
    "# Loop through all other stations\n",
    "for i in range(len(all_stations_df)):\n",
    "    if all_stations_df.iloc[i]['station_name'] != base_station_name:  # if the station is not the base station\n",
    "        target_station_name = all_stations_df.iloc[i]['station_name']\n",
    "        # Get the number of trips from base station to the current station\n",
    "        num_trips = trips_from_base[trips_from_base['end_station_name'] == target_station_name]['trips'].values[0] if target_station_name in trips_from_base['end_station_name'].values else 0\n",
    "\n",
    "        fig.add_trace(go.Scattermapbox(\n",
    "            mode = \"lines\",\n",
    "            lon = [all_stations_df[all_stations_df['station_name'] == base_station_name]['station_longitude'].values[0], all_stations_df.iloc[i]['station_longitude']],\n",
    "            lat = [all_stations_df[all_stations_df['station_name'] == base_station_name]['station_latitude'].values[0], all_stations_df.iloc[i]['station_latitude']],\n",
    "            ))\n",
    "\n",
    "        # Add an invisible marker at the midpoint of each line with the desired hover text\n",
    "        fig.add_trace(go.Scattermapbox(\n",
    "            mode = 'markers',\n",
    "            lon = [(all_stations_df[all_stations_df['station_name'] == base_station_name]['station_longitude'].values[0] + all_stations_df.iloc[i]['station_longitude']) / 2],\n",
    "            lat = [(all_stations_df[all_stations_df['station_name'] == base_station_name]['station_latitude'].values[0] + all_stations_df.iloc[i]['station_latitude']) / 2],\n",
    "            marker = go.scattermapbox.Marker(\n",
    "                size = 0\n",
    "            ),\n",
    "            hovertemplate = f'Trips from {base_station_name} to {target_station_name}: {num_trips}'))\n",
    "\n",
    "fig.add_trace(\n",
    "    go.Scattermapbox(\n",
    "        mode = 'markers',\n",
    "        lon = all_stations_df['station_longitude'],\n",
    "        lat = all_stations_df['station_latitude'],\n",
    "        marker = go.scattermapbox.Marker(\n",
    "            size = 8\n",
    "        ),\n",
    "        text = all_stations_df['station_name'],\n",
    "        hoverinfo = 'text'\n",
    "    )\n",
    ")\n",
    "\n",
    "fig.update_layout(\n",
    "    margin ={'l':0,'t':0,'b':0,'r':0},\n",
    "    mapbox = {\n",
    "        'style': \"open-street-map\",\n",
    "        'center': {\n",
    "            'lon': all_stations_df[all_stations_df['station_name'] == base_station_name]['station_longitude'].values[0],\n",
    "            'lat': all_stations_df[all_stations_df['station_name'] == base_station_name]['station_latitude'].values[0]\n",
    "        }, \n",
    "        'zoom': 10\n",
    "    }\n",
    ")\n",
    "\n",
    "fig.show()"
   ]
  },
  {
   "cell_type": "code",
   "execution_count": null,
   "metadata": {},
   "outputs": [],
   "source": []
  }
 ],
 "metadata": {
  "kernelspec": {
   "display_name": "Python 3",
   "language": "python",
   "name": "python3"
  },
  "language_info": {
   "codemirror_mode": {
    "name": "ipython",
    "version": 3
   },
   "file_extension": ".py",
   "mimetype": "text/x-python",
   "name": "python",
   "nbconvert_exporter": "python",
   "pygments_lexer": "ipython3",
   "version": "3.10.12"
  }
 },
 "nbformat": 4,
 "nbformat_minor": 2
}
